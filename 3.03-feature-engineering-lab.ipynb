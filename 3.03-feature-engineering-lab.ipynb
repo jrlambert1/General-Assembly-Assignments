{
 "cells": [
  {
   "cell_type": "markdown",
   "metadata": {},
   "source": [
    "# ![](https://ga-dash.s3.amazonaws.com/production/assets/logo-9f88ae6c9c3871690e33280fcf557f33.png) Lab 3.03 | Feature Engineering Lab\n",
    "\n",
    "In this lab, you'll implement feature engineering on the \"Heads of State\" data.\n",
    "\n",
    "Your $Y$ value should be the length of time (in years) each individual reigned."
   ]
  },
  {
   "cell_type": "code",
   "execution_count": 202,
   "metadata": {
    "collapsed": true
   },
   "outputs": [],
   "source": [
    "import pandas as pd\n",
    "\n",
    "state = pd.read_csv(\"Heads of State.csv\")"
   ]
  },
  {
   "cell_type": "code",
   "execution_count": 203,
   "metadata": {},
   "outputs": [
    {
     "data": {
      "text/html": [
       "<div>\n",
       "<style scoped>\n",
       "    .dataframe tbody tr th:only-of-type {\n",
       "        vertical-align: middle;\n",
       "    }\n",
       "\n",
       "    .dataframe tbody tr th {\n",
       "        vertical-align: top;\n",
       "    }\n",
       "\n",
       "    .dataframe thead th {\n",
       "        text-align: right;\n",
       "    }\n",
       "</style>\n",
       "<table border=\"1\" class=\"dataframe\">\n",
       "  <thead>\n",
       "    <tr style=\"text-align: right;\">\n",
       "      <th></th>\n",
       "      <th>Age Term Began (approx.)</th>\n",
       "    </tr>\n",
       "  </thead>\n",
       "  <tbody>\n",
       "    <tr>\n",
       "      <th>count</th>\n",
       "      <td>295.000000</td>\n",
       "    </tr>\n",
       "    <tr>\n",
       "      <th>mean</th>\n",
       "      <td>25.949153</td>\n",
       "    </tr>\n",
       "    <tr>\n",
       "      <th>std</th>\n",
       "      <td>18.961493</td>\n",
       "    </tr>\n",
       "    <tr>\n",
       "      <th>min</th>\n",
       "      <td>0.000000</td>\n",
       "    </tr>\n",
       "    <tr>\n",
       "      <th>25%</th>\n",
       "      <td>9.500000</td>\n",
       "    </tr>\n",
       "    <tr>\n",
       "      <th>50%</th>\n",
       "      <td>23.000000</td>\n",
       "    </tr>\n",
       "    <tr>\n",
       "      <th>75%</th>\n",
       "      <td>41.000000</td>\n",
       "    </tr>\n",
       "    <tr>\n",
       "      <th>max</th>\n",
       "      <td>90.000000</td>\n",
       "    </tr>\n",
       "  </tbody>\n",
       "</table>\n",
       "</div>"
      ],
      "text/plain": [
       "       Age Term Began (approx.)\n",
       "count                295.000000\n",
       "mean                  25.949153\n",
       "std                   18.961493\n",
       "min                    0.000000\n",
       "25%                    9.500000\n",
       "50%                   23.000000\n",
       "75%                   41.000000\n",
       "max                   90.000000"
      ]
     },
     "execution_count": 203,
     "metadata": {},
     "output_type": "execute_result"
    }
   ],
   "source": [
    "state.describe()"
   ]
  },
  {
   "cell_type": "code",
   "execution_count": 204,
   "metadata": {},
   "outputs": [
    {
     "ename": "TypeError",
     "evalue": "Empty 'DataFrame': no numeric data to plot",
     "output_type": "error",
     "traceback": [
      "\u001b[0;31m---------------------------------------------------------------------------\u001b[0m",
      "\u001b[0;31mTypeError\u001b[0m                                 Traceback (most recent call last)",
      "\u001b[0;32m<ipython-input-204-9504ab19a896>\u001b[0m in \u001b[0;36m<module>\u001b[0;34m()\u001b[0m\n\u001b[0;32m----> 1\u001b[0;31m \u001b[0mstate\u001b[0m\u001b[0;34m[\u001b[0m\u001b[0;34m'Term Ended'\u001b[0m\u001b[0;34m]\u001b[0m\u001b[0;34m.\u001b[0m\u001b[0msort_values\u001b[0m\u001b[0;34m(\u001b[0m\u001b[0;34m)\u001b[0m\u001b[0;34m.\u001b[0m\u001b[0mplot\u001b[0m\u001b[0;34m(\u001b[0m\u001b[0mkind\u001b[0m\u001b[0;34m=\u001b[0m\u001b[0;34m'box'\u001b[0m\u001b[0;34m)\u001b[0m\u001b[0;34m\u001b[0m\u001b[0m\n\u001b[0m",
      "\u001b[0;32m~/anaconda2/envs/python3/lib/python3.6/site-packages/pandas/plotting/_core.py\u001b[0m in \u001b[0;36m__call__\u001b[0;34m(self, kind, ax, figsize, use_index, title, grid, legend, style, logx, logy, loglog, xticks, yticks, xlim, ylim, rot, fontsize, colormap, table, yerr, xerr, label, secondary_y, **kwds)\u001b[0m\n\u001b[1;32m   2501\u001b[0m                            \u001b[0mcolormap\u001b[0m\u001b[0;34m=\u001b[0m\u001b[0mcolormap\u001b[0m\u001b[0;34m,\u001b[0m \u001b[0mtable\u001b[0m\u001b[0;34m=\u001b[0m\u001b[0mtable\u001b[0m\u001b[0;34m,\u001b[0m \u001b[0myerr\u001b[0m\u001b[0;34m=\u001b[0m\u001b[0myerr\u001b[0m\u001b[0;34m,\u001b[0m\u001b[0;34m\u001b[0m\u001b[0m\n\u001b[1;32m   2502\u001b[0m                            \u001b[0mxerr\u001b[0m\u001b[0;34m=\u001b[0m\u001b[0mxerr\u001b[0m\u001b[0;34m,\u001b[0m \u001b[0mlabel\u001b[0m\u001b[0;34m=\u001b[0m\u001b[0mlabel\u001b[0m\u001b[0;34m,\u001b[0m \u001b[0msecondary_y\u001b[0m\u001b[0;34m=\u001b[0m\u001b[0msecondary_y\u001b[0m\u001b[0;34m,\u001b[0m\u001b[0;34m\u001b[0m\u001b[0m\n\u001b[0;32m-> 2503\u001b[0;31m                            **kwds)\n\u001b[0m\u001b[1;32m   2504\u001b[0m     \u001b[0m__call__\u001b[0m\u001b[0;34m.\u001b[0m\u001b[0m__doc__\u001b[0m \u001b[0;34m=\u001b[0m \u001b[0mplot_series\u001b[0m\u001b[0;34m.\u001b[0m\u001b[0m__doc__\u001b[0m\u001b[0;34m\u001b[0m\u001b[0m\n\u001b[1;32m   2505\u001b[0m \u001b[0;34m\u001b[0m\u001b[0m\n",
      "\u001b[0;32m~/anaconda2/envs/python3/lib/python3.6/site-packages/pandas/plotting/_core.py\u001b[0m in \u001b[0;36mplot_series\u001b[0;34m(data, kind, ax, figsize, use_index, title, grid, legend, style, logx, logy, loglog, xticks, yticks, xlim, ylim, rot, fontsize, colormap, table, yerr, xerr, label, secondary_y, **kwds)\u001b[0m\n\u001b[1;32m   1925\u001b[0m                  \u001b[0myerr\u001b[0m\u001b[0;34m=\u001b[0m\u001b[0myerr\u001b[0m\u001b[0;34m,\u001b[0m \u001b[0mxerr\u001b[0m\u001b[0;34m=\u001b[0m\u001b[0mxerr\u001b[0m\u001b[0;34m,\u001b[0m\u001b[0;34m\u001b[0m\u001b[0m\n\u001b[1;32m   1926\u001b[0m                  \u001b[0mlabel\u001b[0m\u001b[0;34m=\u001b[0m\u001b[0mlabel\u001b[0m\u001b[0;34m,\u001b[0m \u001b[0msecondary_y\u001b[0m\u001b[0;34m=\u001b[0m\u001b[0msecondary_y\u001b[0m\u001b[0;34m,\u001b[0m\u001b[0;34m\u001b[0m\u001b[0m\n\u001b[0;32m-> 1927\u001b[0;31m                  **kwds)\n\u001b[0m\u001b[1;32m   1928\u001b[0m \u001b[0;34m\u001b[0m\u001b[0m\n\u001b[1;32m   1929\u001b[0m \u001b[0;34m\u001b[0m\u001b[0m\n",
      "\u001b[0;32m~/anaconda2/envs/python3/lib/python3.6/site-packages/pandas/plotting/_core.py\u001b[0m in \u001b[0;36m_plot\u001b[0;34m(data, x, y, subplots, ax, kind, **kwds)\u001b[0m\n\u001b[1;32m   1727\u001b[0m         \u001b[0mplot_obj\u001b[0m \u001b[0;34m=\u001b[0m \u001b[0mklass\u001b[0m\u001b[0;34m(\u001b[0m\u001b[0mdata\u001b[0m\u001b[0;34m,\u001b[0m \u001b[0msubplots\u001b[0m\u001b[0;34m=\u001b[0m\u001b[0msubplots\u001b[0m\u001b[0;34m,\u001b[0m \u001b[0max\u001b[0m\u001b[0;34m=\u001b[0m\u001b[0max\u001b[0m\u001b[0;34m,\u001b[0m \u001b[0mkind\u001b[0m\u001b[0;34m=\u001b[0m\u001b[0mkind\u001b[0m\u001b[0;34m,\u001b[0m \u001b[0;34m**\u001b[0m\u001b[0mkwds\u001b[0m\u001b[0;34m)\u001b[0m\u001b[0;34m\u001b[0m\u001b[0m\n\u001b[1;32m   1728\u001b[0m \u001b[0;34m\u001b[0m\u001b[0m\n\u001b[0;32m-> 1729\u001b[0;31m     \u001b[0mplot_obj\u001b[0m\u001b[0;34m.\u001b[0m\u001b[0mgenerate\u001b[0m\u001b[0;34m(\u001b[0m\u001b[0;34m)\u001b[0m\u001b[0;34m\u001b[0m\u001b[0m\n\u001b[0m\u001b[1;32m   1730\u001b[0m     \u001b[0mplot_obj\u001b[0m\u001b[0;34m.\u001b[0m\u001b[0mdraw\u001b[0m\u001b[0;34m(\u001b[0m\u001b[0;34m)\u001b[0m\u001b[0;34m\u001b[0m\u001b[0m\n\u001b[1;32m   1731\u001b[0m     \u001b[0;32mreturn\u001b[0m \u001b[0mplot_obj\u001b[0m\u001b[0;34m.\u001b[0m\u001b[0mresult\u001b[0m\u001b[0;34m\u001b[0m\u001b[0m\n",
      "\u001b[0;32m~/anaconda2/envs/python3/lib/python3.6/site-packages/pandas/plotting/_core.py\u001b[0m in \u001b[0;36mgenerate\u001b[0;34m(self)\u001b[0m\n\u001b[1;32m    248\u001b[0m     \u001b[0;32mdef\u001b[0m \u001b[0mgenerate\u001b[0m\u001b[0;34m(\u001b[0m\u001b[0mself\u001b[0m\u001b[0;34m)\u001b[0m\u001b[0;34m:\u001b[0m\u001b[0;34m\u001b[0m\u001b[0m\n\u001b[1;32m    249\u001b[0m         \u001b[0mself\u001b[0m\u001b[0;34m.\u001b[0m\u001b[0m_args_adjust\u001b[0m\u001b[0;34m(\u001b[0m\u001b[0;34m)\u001b[0m\u001b[0;34m\u001b[0m\u001b[0m\n\u001b[0;32m--> 250\u001b[0;31m         \u001b[0mself\u001b[0m\u001b[0;34m.\u001b[0m\u001b[0m_compute_plot_data\u001b[0m\u001b[0;34m(\u001b[0m\u001b[0;34m)\u001b[0m\u001b[0;34m\u001b[0m\u001b[0m\n\u001b[0m\u001b[1;32m    251\u001b[0m         \u001b[0mself\u001b[0m\u001b[0;34m.\u001b[0m\u001b[0m_setup_subplots\u001b[0m\u001b[0;34m(\u001b[0m\u001b[0;34m)\u001b[0m\u001b[0;34m\u001b[0m\u001b[0m\n\u001b[1;32m    252\u001b[0m         \u001b[0mself\u001b[0m\u001b[0;34m.\u001b[0m\u001b[0m_make_plot\u001b[0m\u001b[0;34m(\u001b[0m\u001b[0;34m)\u001b[0m\u001b[0;34m\u001b[0m\u001b[0m\n",
      "\u001b[0;32m~/anaconda2/envs/python3/lib/python3.6/site-packages/pandas/plotting/_core.py\u001b[0m in \u001b[0;36m_compute_plot_data\u001b[0;34m(self)\u001b[0m\n\u001b[1;32m    363\u001b[0m         \u001b[0;32mif\u001b[0m \u001b[0mis_empty\u001b[0m\u001b[0;34m:\u001b[0m\u001b[0;34m\u001b[0m\u001b[0m\n\u001b[1;32m    364\u001b[0m             raise TypeError('Empty {0!r}: no numeric data to '\n\u001b[0;32m--> 365\u001b[0;31m                             'plot'.format(numeric_data.__class__.__name__))\n\u001b[0m\u001b[1;32m    366\u001b[0m \u001b[0;34m\u001b[0m\u001b[0m\n\u001b[1;32m    367\u001b[0m         \u001b[0mself\u001b[0m\u001b[0;34m.\u001b[0m\u001b[0mdata\u001b[0m \u001b[0;34m=\u001b[0m \u001b[0mnumeric_data\u001b[0m\u001b[0;34m\u001b[0m\u001b[0m\n",
      "\u001b[0;31mTypeError\u001b[0m: Empty 'DataFrame': no numeric data to plot"
     ]
    }
   ],
   "source": [
    "state['Term Ended'].sort_values().plot(kind='box')\n"
   ]
  },
  {
   "cell_type": "markdown",
   "metadata": {},
   "source": [
    "Exercise 1: As a first step, do some EDA and data cleaning. Don't go too far down the rabbit hole, but be able to identify potential pitfalls in the data!"
   ]
  },
  {
   "cell_type": "code",
   "execution_count": null,
   "metadata": {},
   "outputs": [],
   "source": [
    "num_cols = ['Birth Year','Age Term Began (approx.)', 'Term Began', 'Year Term Began','Term Ended', 'Year Term Ended', 'Term length', 'Days in Term']\n",
    "state[num_cols] = state[num_cols].apply(pd.to_numeric, errors='coerce')\n",
    "mask = state['Term Ended'] > 4000\n",
    "state = state.drop(state[mask].index)"
   ]
  },
  {
   "cell_type": "markdown",
   "metadata": {},
   "source": [
    "Exercise 2: Create the length of time in years each individual reigned. Include decimal values. (For example, if someone reigned for 330 days, we would expect this value to be approximately 0.9.)"
   ]
  },
  {
   "cell_type": "code",
   "execution_count": null,
   "metadata": {},
   "outputs": [],
   "source": [
    "state['Term length'] = state['Days in Term'] / 365\n",
    "state.describe()"
   ]
  },
  {
   "cell_type": "markdown",
   "metadata": {},
   "source": [
    "Exercise 3: It only makes sense if we're going to analyze people who are not currently heads of state. (If we included current heads of state, we're not going to get a great look at their length of reign, because their reign is continuing!) Subset your data accordingly."
   ]
  },
  {
   "cell_type": "code",
   "execution_count": null,
   "metadata": {},
   "outputs": [],
   "source": [
    "state = state[state['Current?'] == 'No']\n",
    "state['Current?'].value_counts()"
   ]
  },
  {
   "cell_type": "markdown",
   "metadata": {},
   "source": [
    "Exercise 4: Does being royal have a significant effect on the length of one's reign?\n",
    "- Build the model using `sm.OLS()`. Be sure to include a $y$-intercept!\n",
    "- Check out the summary. Interpret the coefficient.\n",
    "- Based on the $p$-value in the summary, mention what (if anything) you can conclude about the effect of being royal on the length one's reign."
   ]
  },
  {
   "cell_type": "code",
   "execution_count": null,
   "metadata": {},
   "outputs": [],
   "source": [
    "def valer(row):\n",
    "    if row == 'Yes':\n",
    "        val = 1\n",
    "    else: \n",
    "        val = 0\n",
    "    return val\n",
    "state['Royal_dummie'] = state['Royal?'].apply(valer)\n",
    "state['Royal_dummie'].value_counts()"
   ]
  },
  {
   "cell_type": "code",
   "execution_count": null,
   "metadata": {
    "collapsed": true
   },
   "outputs": [],
   "source": [
    "new_state = state.drop(['Name', 'Wikipedia Page', 'Description', 'Image', 'Birth Year',\n",
    "       'Term Began', 'Age Term Began (approx.)',\n",
    "       'Term Ended', 'Year Term Ended', 'Days in Term',\n",
    "       'Royal?', 'Current?', 'Birth Place (current city)',\n",
    "       'Country of Birth (current country)', 'Ruler of',\n",
    "       'Country of Ruled Territory (Current)', 'Political Party', 'Studies',\n",
    "       'Role', 'Religion'], axis=1)\n",
    "new_state = new_state.dropna()\n",
    "new_state.sort_values('Year Term Began')\n"
   ]
  },
  {
   "cell_type": "code",
   "execution_count": null,
   "metadata": {},
   "outputs": [],
   "source": [
    "import statsmodels.api as sm\n",
    "dep = new_state['Term length']\n",
    "indep = new_state.drop(['Term length', 'Year Term Began'], axis='columns')\n",
    "indep = sm.add_constant(indep)\n",
    "model = sm.OLS(dep, indep)\n",
    "results = model.fit()\n",
    "results.summary()\n",
    "#We can reject the null hypothesis of 0 effect at the 99%\n",
    "#level due to a p value < 0.01. We can interpret the coefficient\n",
    "#'being royal (versus not royal) is associated with a 22 year increase in reign on average. "
   ]
  },
  {
   "cell_type": "markdown",
   "metadata": {},
   "source": [
    "Exercise 5: Does having a religion listed (column V) have a significant effect on the length of one's reign?\n",
    "- Build the model using `sm.OLS()`. Be sure to include a $y$-intercept!\n",
    "- Check out the summary. Interpret the coefficient.\n",
    "- Based on the $p$-value in the summary, mention what (if anything) you can conclude about the effect of having a religion listed on the length of one's reign."
   ]
  },
  {
   "cell_type": "code",
   "execution_count": null,
   "metadata": {},
   "outputs": [],
   "source": [
    "def religioner(row):\n",
    "    if row != 0:\n",
    "        val = 1\n",
    "    else:\n",
    "        val = 0\n",
    "    return val \n",
    "state['Religion'] = state['Religion'].fillna(value=0)\n",
    "state['Religion'] = state['Religion'].replace(to_replace='None', value=0)"
   ]
  },
  {
   "cell_type": "code",
   "execution_count": null,
   "metadata": {},
   "outputs": [],
   "source": [
    "state['Religion'] = state['Religion'].apply(religioner)\n",
    "state['Religion'].value_counts()"
   ]
  },
  {
   "cell_type": "code",
   "execution_count": null,
   "metadata": {},
   "outputs": [],
   "source": [
    "new_state2 = state.drop(['Name', 'Wikipedia Page', 'Description', 'Image', 'Birth Year',\n",
    "       'Age Term Began (approx.)', 'Term Began', 'Year Term Began',\n",
    "       'Term Ended', 'Year Term Ended', 'Days in Term',\n",
    "       'Royal?', 'Current?', 'Birth Place (current city)',\n",
    "       'Country of Birth (current country)', 'Ruler of',\n",
    "       'Country of Ruled Territory (Current)', 'Political Party', 'Studies',\n",
    "       'Role', 'Royal_dummie', 'Relgion_dummie'], axis=1)\n",
    "new_state2 = new_state2.dropna()"
   ]
  },
  {
   "cell_type": "code",
   "execution_count": null,
   "metadata": {},
   "outputs": [],
   "source": [
    "dep = new_state2['Term length']\n",
    "indep = new_state2.drop('Term length', axis='columns')\n",
    "indep = sm.add_constant(indep)\n",
    "model = sm.OLS(dep, indep)\n",
    "results = model.fit()\n",
    "results.summary()\n",
    "#religion is significant at the 1% significance level and we can reject the null hypothesis (i.e. of no effect)\n",
    "#having a recorded religion is associated with 6 fewer years of reign on average. "
   ]
  },
  {
   "cell_type": "markdown",
   "metadata": {},
   "source": [
    "Exercise 6: Is there a significant interaction between being royal and having a religion listed?\n",
    "- Build the model using `sm.OLS()`. Be sure to include a $y$-intercept!\n",
    "- Based on the $p$-value in the summary, mention what (if anything) you can conclude about the interaction effect of royal and religion on the length of one's reign."
   ]
  },
  {
   "cell_type": "code",
   "execution_count": null,
   "metadata": {},
   "outputs": [],
   "source": [
    "new_state3 = state.drop(['Name', 'Wikipedia Page', 'Description', 'Image', 'Birth Year',\n",
    "       'Age Term Began (approx.)', 'Term Began', 'Year Term Began',\n",
    "       'Term Ended', 'Year Term Ended', 'Days in Term',\n",
    "       'Royal?', 'Current?', 'Birth Place (current city)',\n",
    "       'Country of Birth (current country)', 'Ruler of',\n",
    "       'Country of Ruled Territory (Current)', 'Political Party', 'Studies',\n",
    "       'Role', 'Relgion_dummie'], axis=1)\n",
    "new_state3['Interact'] = new_state3['Religion'] * new_state3['Royal_dummie']\n",
    "new_state3 = new_state3.dropna()\n",
    "new_state3.head()"
   ]
  },
  {
   "cell_type": "code",
   "execution_count": null,
   "metadata": {},
   "outputs": [],
   "source": [
    "dep = new_state3['Term length']\n",
    "indep = new_state3.drop('Term length', axis=1)\n",
    "indep = sm.add_constant(indep)\n",
    "model = sm.OLS(dep, indep)\n",
    "results = model.fit()\n",
    "results.summary()\n",
    "#Religion loses significance, and the interaction term doesnt have significance (cant reject null hypotheses at 10% level)\n",
    "#pvalues are much larger than .05"
   ]
  },
  {
   "cell_type": "markdown",
   "metadata": {},
   "source": [
    "Exercise 7: Does the age the term began have a significant effect on the length of one's reign?"
   ]
  },
  {
   "cell_type": "code",
   "execution_count": null,
   "metadata": {
    "collapsed": true
   },
   "outputs": [],
   "source": [
    "new_state4 = state.drop(['Name', 'Wikipedia Page', 'Description', 'Image', 'Birth Year',\n",
    "     'Term Began', 'Year Term Began',\n",
    "       'Term Ended', 'Year Term Ended', 'Days in Term',\n",
    "       'Royal?', 'Current?', 'Birth Place (current city)',\n",
    "       'Country of Birth (current country)', 'Ruler of',\n",
    "       'Country of Ruled Territory (Current)', 'Political Party', 'Studies',\n",
    "       'Role', 'Religion', 'Royal_dummie', 'Relgion_dummie'], axis=1)\n",
    "new_state4 = new_state4.dropna()"
   ]
  },
  {
   "cell_type": "code",
   "execution_count": null,
   "metadata": {},
   "outputs": [],
   "source": [
    "dep = new_state4['Term length']\n",
    "indep = new_state4.drop('Term length', axis=1)\n",
    "indep = sm.add_constant(indep)\n",
    "model = sm.OLS(dep, indep)\n",
    "results = model.fit()\n",
    "results.summary()\n",
    "#The null hypothesis can be rejected at the 1% level (p-score < .01). Each additional year is \n",
    "#associated with a ~1/2 year reduction in the length of reign. "
   ]
  },
  {
   "cell_type": "markdown",
   "metadata": {},
   "source": [
    "Exercise 8: Suppose you're wary of the data collection process here. Are there any concerns you might have about the data? (Perhaps about sampled versus target populations?)"
   ]
  },
  {
   "cell_type": "code",
   "execution_count": null,
   "metadata": {
    "collapsed": true
   },
   "outputs": [],
   "source": [
    "#Spead of democracy is a relatively recent and widespread phenomena that is not accounted for by ancient monarchies.\n",
    "#I question the term length (which has a mean of ~56 years), this seems way too long. "
   ]
  },
  {
   "cell_type": "markdown",
   "metadata": {},
   "source": [
    "Exercise 9: Build a multiple linear regression model to predict the length of an individual's reign. In addition to the previous features, engineer at least two more features. If you want to use some of the text features, you may find [.isin()](https://pandas.pydata.org/pandas-docs/stable/generated/pandas.Series.isin.html) helpful.\n",
    "\n",
    "Discuss the results of your model."
   ]
  },
  {
   "cell_type": "code",
   "execution_count": null,
   "metadata": {
    "collapsed": true
   },
   "outputs": [],
   "source": [
    "stop = list(state.Description.values)\n",
    "stop = [len(str(x)) for x in stop]\n",
    "state['Decription Length'] = stop\n",
    "state.head()"
   ]
  },
  {
   "cell_type": "code",
   "execution_count": null,
   "metadata": {
    "collapsed": true
   },
   "outputs": [],
   "source": [
    "def europe(lst):\n",
    "    europe = ['Albania', 'Andorra', 'Armenia', 'Austria', 'Azerbaijan', 'Belarus', 'Belgium', 'Bosnia and Herzegovina', 'Bulgaria', 'Croatia', 'Cyprus', 'Czech Republic', 'Denmark', 'Estonia', 'Finland', 'France', 'Georgia', 'Germany', 'Greece', 'Hungary', 'Iceland', 'Ireland', 'Italy', 'Kazakhstan', 'Kosovo', 'Latvia', 'Liechtenstein', 'Lithuania', 'Luxembourg', 'Macedonia', 'Malta', 'Moldova', 'Monaco', 'Montenegro', 'Netherlands', 'Norway', 'Poland', 'Portugal', 'Romania', 'Russia', 'San Marino', 'Serbia', 'Slovakia', 'Slovenia', 'Spain', 'Sweden', 'Switzerland', 'Turkey', 'Ukraine', 'United Kingdom', 'Vatican City ']\n",
    "    if lst in europe:\n",
    "        val = 1\n",
    "    else:\n",
    "        val = 0\n",
    "    return val\n",
    "state['Europe'] = state['Country of Ruled Territory (Current)'].apply(europe)\n",
    "state.head()"
   ]
  },
  {
   "cell_type": "code",
   "execution_count": null,
   "metadata": {},
   "outputs": [],
   "source": [
    "state['Europe'].value_counts()"
   ]
  },
  {
   "cell_type": "code",
   "execution_count": null,
   "metadata": {},
   "outputs": [],
   "source": [
    "new_state5 = state.drop(['Name', 'Wikipedia Page', 'Description', 'Image', 'Birth Year',\n",
    "     'Term Began', 'Religion', 'Age Term Began (approx.)',\n",
    "       'Term Ended', 'Year Term Ended', 'Days in Term',\n",
    "       'Royal?', 'Current?', 'Birth Place (current city)',\n",
    "       'Country of Birth (current country)', 'Ruler of',\n",
    "       'Country of Ruled Territory (Current)', 'Political Party', 'Studies',\n",
    "       'Role'], axis=1)\n",
    "new_state5 = new_state5.dropna()\n"
   ]
  },
  {
   "cell_type": "code",
   "execution_count": 205,
   "metadata": {},
   "outputs": [
    {
     "data": {
      "text/html": [
       "<table class=\"simpletable\">\n",
       "<caption>OLS Regression Results</caption>\n",
       "<tr>\n",
       "  <th>Dep. Variable:</th>       <td>Term length</td>   <th>  R-squared:         </th> <td>   0.387</td>\n",
       "</tr>\n",
       "<tr>\n",
       "  <th>Model:</th>                   <td>OLS</td>       <th>  Adj. R-squared:    </th> <td>   0.380</td>\n",
       "</tr>\n",
       "<tr>\n",
       "  <th>Method:</th>             <td>Least Squares</td>  <th>  F-statistic:       </th> <td>   55.30</td>\n",
       "</tr>\n",
       "<tr>\n",
       "  <th>Date:</th>             <td>Tue, 30 Jan 2018</td> <th>  Prob (F-statistic):</th> <td>3.90e-36</td>\n",
       "</tr>\n",
       "<tr>\n",
       "  <th>Time:</th>                 <td>16:06:00</td>     <th>  Log-Likelihood:    </th> <td> -1215.8</td>\n",
       "</tr>\n",
       "<tr>\n",
       "  <th>No. Observations:</th>      <td>   356</td>      <th>  AIC:               </th> <td>   2442.</td>\n",
       "</tr>\n",
       "<tr>\n",
       "  <th>Df Residuals:</th>          <td>   351</td>      <th>  BIC:               </th> <td>   2461.</td>\n",
       "</tr>\n",
       "<tr>\n",
       "  <th>Df Model:</th>              <td>     4</td>      <th>                     </th>     <td> </td>   \n",
       "</tr>\n",
       "<tr>\n",
       "  <th>Covariance Type:</th>      <td>nonrobust</td>    <th>                     </th>     <td> </td>   \n",
       "</tr>\n",
       "</table>\n",
       "<table class=\"simpletable\">\n",
       "<tr>\n",
       "          <td></td>             <th>coef</th>     <th>std err</th>      <th>t</th>      <th>P>|t|</th>  <th>[0.025</th>    <th>0.975]</th>  \n",
       "</tr>\n",
       "<tr>\n",
       "  <th>Year Term Began</th>   <td> 7.202e-05</td> <td>    0.001</td> <td>    0.135</td> <td> 0.893</td> <td>   -0.001</td> <td>    0.001</td>\n",
       "</tr>\n",
       "<tr>\n",
       "  <th>Royal_dummie</th>      <td>   23.0356</td> <td>    1.651</td> <td>   13.950</td> <td> 0.000</td> <td>   19.788</td> <td>   26.283</td>\n",
       "</tr>\n",
       "<tr>\n",
       "  <th>Relgion_dummie</th>    <td>   17.4583</td> <td>    0.989</td> <td>   17.646</td> <td> 0.000</td> <td>   15.512</td> <td>   19.404</td>\n",
       "</tr>\n",
       "<tr>\n",
       "  <th>Decription Length</th> <td>    0.0009</td> <td>    0.002</td> <td>    0.602</td> <td> 0.547</td> <td>   -0.002</td> <td>    0.004</td>\n",
       "</tr>\n",
       "<tr>\n",
       "  <th>Europe</th>            <td>    0.2293</td> <td>    0.840</td> <td>    0.273</td> <td> 0.785</td> <td>   -1.423</td> <td>    1.882</td>\n",
       "</tr>\n",
       "<tr>\n",
       "  <th>const</th>             <td>   17.4583</td> <td>    0.989</td> <td>   17.646</td> <td> 0.000</td> <td>   15.512</td> <td>   19.404</td>\n",
       "</tr>\n",
       "</table>\n",
       "<table class=\"simpletable\">\n",
       "<tr>\n",
       "  <th>Omnibus:</th>       <td>72.379</td> <th>  Durbin-Watson:     </th> <td>   1.931</td>\n",
       "</tr>\n",
       "<tr>\n",
       "  <th>Prob(Omnibus):</th> <td> 0.000</td> <th>  Jarque-Bera (JB):  </th> <td> 118.188</td>\n",
       "</tr>\n",
       "<tr>\n",
       "  <th>Skew:</th>          <td> 1.202</td> <th>  Prob(JB):          </th> <td>2.17e-26</td>\n",
       "</tr>\n",
       "<tr>\n",
       "  <th>Kurtosis:</th>      <td> 4.480</td> <th>  Cond. No.          </th> <td>1.62e+20</td>\n",
       "</tr>\n",
       "</table>"
      ],
      "text/plain": [
       "<class 'statsmodels.iolib.summary.Summary'>\n",
       "\"\"\"\n",
       "                            OLS Regression Results                            \n",
       "==============================================================================\n",
       "Dep. Variable:            Term length   R-squared:                       0.387\n",
       "Model:                            OLS   Adj. R-squared:                  0.380\n",
       "Method:                 Least Squares   F-statistic:                     55.30\n",
       "Date:                Tue, 30 Jan 2018   Prob (F-statistic):           3.90e-36\n",
       "Time:                        16:06:00   Log-Likelihood:                -1215.8\n",
       "No. Observations:                 356   AIC:                             2442.\n",
       "Df Residuals:                     351   BIC:                             2461.\n",
       "Df Model:                           4                                         \n",
       "Covariance Type:            nonrobust                                         \n",
       "=====================================================================================\n",
       "                        coef    std err          t      P>|t|      [0.025      0.975]\n",
       "-------------------------------------------------------------------------------------\n",
       "Year Term Began    7.202e-05      0.001      0.135      0.893      -0.001       0.001\n",
       "Royal_dummie         23.0356      1.651     13.950      0.000      19.788      26.283\n",
       "Relgion_dummie       17.4583      0.989     17.646      0.000      15.512      19.404\n",
       "Decription Length     0.0009      0.002      0.602      0.547      -0.002       0.004\n",
       "Europe                0.2293      0.840      0.273      0.785      -1.423       1.882\n",
       "const                17.4583      0.989     17.646      0.000      15.512      19.404\n",
       "==============================================================================\n",
       "Omnibus:                       72.379   Durbin-Watson:                   1.931\n",
       "Prob(Omnibus):                  0.000   Jarque-Bera (JB):              118.188\n",
       "Skew:                           1.202   Prob(JB):                     2.17e-26\n",
       "Kurtosis:                       4.480   Cond. No.                     1.62e+20\n",
       "==============================================================================\n",
       "\n",
       "Warnings:\n",
       "[1] Standard Errors assume that the covariance matrix of the errors is correctly specified.\n",
       "[2] The smallest eigenvalue is 3.23e-32. This might indicate that there are\n",
       "strong multicollinearity problems or that the design matrix is singular.\n",
       "\"\"\""
      ]
     },
     "execution_count": 205,
     "metadata": {},
     "output_type": "execute_result"
    }
   ],
   "source": [
    "dep = new_state5['Term length']\n",
    "indep = new_state5.drop('Term length', axis=1)\n",
    "indep = sm.add_constant(indep)\n",
    "model = sm.OLS(dep, indep)\n",
    "results = model.fit()\n",
    "results.summary()\n",
    "#I dont know why add_constant doesn't work. I added it manually. Neither Europe or length of\n",
    "#description returned as significant at the 5% level. "
   ]
  }
 ],
 "metadata": {
  "kernelspec": {
   "display_name": "Python 3",
   "language": "python",
   "name": "python3"
  },
  "language_info": {
   "codemirror_mode": {
    "name": "ipython",
    "version": 3
   },
   "file_extension": ".py",
   "mimetype": "text/x-python",
   "name": "python",
   "nbconvert_exporter": "python",
   "pygments_lexer": "ipython3",
   "version": "3.6.3"
  }
 },
 "nbformat": 4,
 "nbformat_minor": 2
}
