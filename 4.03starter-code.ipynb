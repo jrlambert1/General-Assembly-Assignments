{
 "cells": [
  {
   "cell_type": "markdown",
   "metadata": {},
   "source": [
    "Exercise 1: Suppose you administer a questionnaire that involves the following question:\n",
    "\n",
    "- \"Do you think things are heading in the right direction or do you believe things have pretty seriously gotten off on the wrong track?\"\n",
    "\n",
    "You want to take these 1,000 survey responses as your $Y$ and build a model using geographic and demographic data to predict answers for the rest of your voting population. What generalized linear model is most appropriate here? Why?"
   ]
  },
  {
   "cell_type": "code",
   "execution_count": null,
   "metadata": {
    "collapsed": true
   },
   "outputs": [],
   "source": [
    "#This is going to be a binary response variable i.e. yes/no. You are therefore going to want to use a logistical\n",
    "#regression model to look at the probability of a 'yes' reponse limited to between 0 and 1. "
   ]
  },
  {
   "cell_type": "markdown",
   "metadata": {},
   "source": [
    "Exercise 2: Suppose you administer a questionnaire that involves the following question:\n",
    "\n",
    "- \"Do you strongly approve, somewhat approve, feel neutral about, somewhat disapprove, or strongly disapprove of the President's performance so far?\"\n",
    "\n",
    "You want to take these 1,000 survey responses as your $Y$ and build a model using geographic and demographic data to predict answers for the rest of your voting population. What generalized linear model is most appropriate here? Why?"
   ]
  },
  {
   "cell_type": "code",
   "execution_count": null,
   "metadata": {
    "collapsed": true
   },
   "outputs": [],
   "source": [
    "#Ordinal logistic regression. Because there are more than two discrete categories, but they are ordered in intensity. "
   ]
  },
  {
   "cell_type": "markdown",
   "metadata": {},
   "source": [
    "Exercise 3: Suppose you administer a questionnaire that involves the following question:\n",
    "\n",
    "- \"When deciding who to vote for in the upcoming election, which of the following is most important? National security, jobs/economy, or social issues?\"\n",
    "\n",
    "You want to take these 1,000 survey responses as your $Y$ and build a model using geographic and demographic data to predict answers for the rest of your voting population. What generalized linear model is most appropriate here? Why?"
   ]
  },
  {
   "cell_type": "code",
   "execution_count": null,
   "metadata": {
    "collapsed": true
   },
   "outputs": [],
   "source": [
    "#Multinomial logistic regression. Because there are  3 discrete, unordered categorical response values. "
   ]
  },
  {
   "cell_type": "markdown",
   "metadata": {},
   "source": [
    "Exercise 4: Suppose you administer a questionnaire that involves the following question:\n",
    "\n",
    "- \"In the past week, how many times have you seen a commercial or advertisement involving this candidate?\"\n",
    "\n",
    "You want to take these 1,000 survey responses as your $Y$ and build a model using geographic and demographic data to predict answers for the rest of your voting population. What generalized linear model is most appropriate here? Why?"
   ]
  },
  {
   "cell_type": "code",
   "execution_count": null,
   "metadata": {
    "collapsed": true
   },
   "outputs": [],
   "source": [
    "#Poisson regression. There are an inifnite number of discrete 'categories' and there is no reason to suspect\n",
    "#that variance is greater than the e(x). "
   ]
  },
  {
   "cell_type": "markdown",
   "metadata": {},
   "source": [
    "Exercise 5: In this problem, we'll guide you through (partially) using a new type of GLM. However, as you do this problem, think about this in the broader context of data science. In particular:\n",
    "- If you observe something weird in the data, can you explain why it's happening? Don't just think about data munging errors you might have made - also think about causes beyond your control, like data collection or measurement.\n",
    "- If you know your data are telling you something, can you model it?\n",
    "\n",
    "Suppose I have access to voting history and demographic information for all people in the state of Virginia. There's a column for whether or not people voted in the 2016 election.\n",
    "- Consider a 35 year old woman who did not vote in the 2016 election. She has a `0` in the `2016_voted` column.\n",
    "- Consider a 14 year old man who did not vote in the 2016 election. He has a `0` in the `2016_voted` column.\n",
    "\n",
    "In a Pandas DataFrame, the zeros look exactly the same. There's no difference in our DataFrame between a `0` because someone chose to not vote and a `0` because someone wasn't legally allowed to vote. Python won't know the difference, but you and I will! Because of this, we probably don't want to just pass these `0`s into `statsmodels` like they're all the same... instead, we might want to find a modeling technique that can account for this! *(If this doesn't make sense, chat with a classmate or your local instructor before moving on.)*\n",
    "\n",
    "There are special types of models called \"zero-inflated\" models that can handle exactly this situation - where there are more zeros than we'd expect, but some of the zeros are \"structural,\" or caused by some other process. (In this specific instance, we observe more zeros because of the age restriction on voting.) In cases where there are a lot of zeros, we might want to explore the data and the problem we're trying to solve to understand why there are so many zeros.\n",
    "- Our first question is: Are there more zeros than we'd expect?\n",
    "    - If yes, move to the second question.\n",
    "    - If no, we probably don't need to consider a zero-inflated model.\n",
    "- Our second question is: Is there some explanation for why we observe so many zeros? (i.e. data collection, data transcription error, measurement error...)\n",
    "    - If yes, then let's try to model that.\n",
    "    - If no, then proceed with caution."
   ]
  },
  {
   "cell_type": "markdown",
   "metadata": {},
   "source": [
    "**Data Summary**: The state wildlife biologists want to model how many fish are being caught by fishermen at a state park. Visitors are asked how long they stayed, how many people were in the group, were there children in the group and how many fish were caught. Some visitors do not fish, but there is no data on whether a person fished or not.\n",
    "\n",
    "We'll be using the fish data below. Your $Y$ variable is `count`."
   ]
  },
  {
   "cell_type": "code",
   "execution_count": 68,
   "metadata": {},
   "outputs": [],
   "source": [
    "import pandas as pd\n",
    "fish = pd.read_csv(\"https://stats.idre.ucla.edu/stat/data/fish.csv\")"
   ]
  },
  {
   "cell_type": "markdown",
   "metadata": {},
   "source": [
    "Exercise 5.1: Given the scenario above, how might this data be susceptible to having an inflated number of zeros?"
   ]
  },
  {
   "cell_type": "code",
   "execution_count": 4,
   "metadata": {},
   "outputs": [],
   "source": [
    "import matplotlib.pyplot as plt\n",
    "import numpy as np \n",
    "import seaborn as sns\n",
    "#People who caught 0 fish (but fished) will look just like people who caught 0 fish and did NOT fish."
   ]
  },
  {
   "cell_type": "markdown",
   "metadata": {},
   "source": [
    "Exercise 5.2: Do some EDA to explore whether or not there are an inflated number of zeros in `count`. Try a few things, including:\n",
    "- Histogram of `count`.\n",
    "- Finding the mean of `count`, then overlaying a Poisson distribution with that mean on the histogram of `count`. Does it visually look like a good fit?"
   ]
  },
  {
   "cell_type": "code",
   "execution_count": 69,
   "metadata": {},
   "outputs": [
    {
     "data": {
      "text/plain": [
       "250"
      ]
     },
     "execution_count": 69,
     "metadata": {},
     "output_type": "execute_result"
    }
   ],
   "source": [
    "fish.head()\n",
    "len(fish)"
   ]
  },
  {
   "cell_type": "code",
   "execution_count": 62,
   "metadata": {},
   "outputs": [
    {
     "data": {
      "image/png": "[encoded data removed]",
      "text/plain": [
       "<matplotlib.figure.Figure at 0x1a162e0d30>"
      ]
     },
     "metadata": {},
     "output_type": "display_data"
    }
   ],
   "source": [
    "fig = plt.figure()\n",
    "ax = fig.gca()\n",
    "fish['count'].loc[fish['count'] < 60].plot.hist(bins=15)\n",
    "plt.hist(np.random.poisson(2.46, 248), bins=7, alpha=0.4)\n",
    "plt.show()"
   ]
  },
  {
   "cell_type": "code",
   "execution_count": 70,
   "metadata": {},
   "outputs": [
    {
     "data": {
      "text/plain": [
       "248"
      ]
     },
     "execution_count": 70,
     "metadata": {},
     "output_type": "execute_result"
    }
   ],
   "source": [
    "fish = fish.loc[fish['count'] < 40]\n",
    "len(fish)"
   ]
  },
  {
   "cell_type": "markdown",
   "metadata": {},
   "source": [
    "Exercise 5.3: If we have a Poisson distribution with a fixed mean $\\lambda$, we can find the exact percentage of zeros we would expect to see. Using the Poisson pdf, calculate $P(count=k) = \\frac{\\lambda^ke^{-\\lambda}}{k!}$ for $k = 0$. This should tell you the exact percentage of zeros we expect to see, assuming that the data truly follow a $Poisson(\\lambda)$ distribution."
   ]
  },
  {
   "cell_type": "code",
   "execution_count": 82,
   "metadata": {},
   "outputs": [
    {
     "data": {
      "text/plain": [
       "0.085434950967321233"
      ]
     },
     "execution_count": 82,
     "metadata": {},
     "output_type": "execute_result"
    }
   ],
   "source": [
    "from scipy.stats import poisson\n",
    "dist = poisson(2.46)\n",
    "dist.pmf(0)"
   ]
  },
  {
   "cell_type": "markdown",
   "metadata": {},
   "source": [
    "Exercise 5.4: It was annoying to have to use the actual Poisson pdf, right? Let's get the computer to do the work for us. Instead of getting the exact percentage of zeros we would expect to see, you can use Monte Carlo simulations to answer this. Randomly simulate 1,000 observations from a $Poisson(\\lambda)$ distribution and see what percentage are equal to 0."
   ]
  },
  {
   "cell_type": "code",
   "execution_count": 87,
   "metadata": {
    "collapsed": true
   },
   "outputs": [],
   "source": [
    "x = []\n",
    "for p in range(1000):\n",
    "    dist = list(np.random.poisson(2.46, 248))\n",
    "    x.append(dist.count(0)/248)"
   ]
  },
  {
   "cell_type": "code",
   "execution_count": 88,
   "metadata": {},
   "outputs": [
    {
     "data": {
      "text/plain": [
       "0.084846774193548385"
      ]
     },
     "execution_count": 88,
     "metadata": {},
     "output_type": "execute_result"
    }
   ],
   "source": [
    "np.mean(x)"
   ]
  },
  {
   "cell_type": "markdown",
   "metadata": {},
   "source": [
    "Exercise 5.5: Based on your answers in 5.2-5.4, is there enough evidence that `count` has too many zeros to be modeled with a non-zero-inflated Poisson distribution?"
   ]
  },
  {
   "cell_type": "code",
   "execution_count": 89,
   "metadata": {},
   "outputs": [
    {
     "data": {
      "text/plain": [
       "0.5725806451612904"
      ]
     },
     "execution_count": 89,
     "metadata": {},
     "output_type": "execute_result"
    }
   ],
   "source": [
    "len(fish.loc[fish['count'] == 0])/248"
   ]
  },
  {
   "cell_type": "code",
   "execution_count": null,
   "metadata": {
    "collapsed": true
   },
   "outputs": [],
   "source": [
    "#There are WAY too man zeros. We need to use zero inflated (57% in data vs. ~8% in poisson dist). "
   ]
  },
  {
   "cell_type": "markdown",
   "metadata": {},
   "source": [
    "Exercise 5.6: **Regardless of your answer to 5.5**, build two Poisson regression models (without zero-inflation) predicting `count`. You should:\n",
    "- Do some additional EDA on your independent variables.\n",
    "- Build the two models.\n",
    "- Interpret at least two coefficients.\n",
    "- Compare the two models using deviance. \n",
    "    - **NOTE: You can only compare the two models if they are nested!**"
   ]
  },
  {
   "cell_type": "code",
   "execution_count": 92,
   "metadata": {},
   "outputs": [
    {
     "name": "stderr",
     "output_type": "stream",
     "text": [
      "/Users/slevin886/anaconda2/envs/python3/lib/python3.6/site-packages/statsmodels/compat/pandas.py:56: FutureWarning: The pandas.core.datetools module is deprecated and will be removed in a future version. Please use the pandas.tseries module instead.\n",
      "  from pandas.core import datetools\n"
     ]
    }
   ],
   "source": [
    "import statsmodels.api as sm"
   ]
  },
  {
   "cell_type": "code",
   "execution_count": 109,
   "metadata": {},
   "outputs": [
    {
     "data": {
      "text/html": [
       "<table class=\"simpletable\">\n",
       "<caption>Generalized Linear Model Regression Results</caption>\n",
       "<tr>\n",
       "  <th>Dep. Variable:</th>        <td>count</td>      <th>  No. Observations:  </th>  <td>   248</td> \n",
       "</tr>\n",
       "<tr>\n",
       "  <th>Model:</th>                 <td>GLM</td>       <th>  Df Residuals:      </th>  <td>   243</td> \n",
       "</tr>\n",
       "<tr>\n",
       "  <th>Model Family:</th>        <td>Poisson</td>     <th>  Df Model:          </th>  <td>     4</td> \n",
       "</tr>\n",
       "<tr>\n",
       "  <th>Link Function:</th>         <td>log</td>       <th>  Scale:             </th>    <td>1.0</td>  \n",
       "</tr>\n",
       "<tr>\n",
       "  <th>Method:</th>               <td>IRLS</td>       <th>  Log-Likelihood:    </th> <td> -611.18</td>\n",
       "</tr>\n",
       "<tr>\n",
       "  <th>Date:</th>           <td>Tue, 06 Feb 2018</td> <th>  Deviance:          </th> <td>  898.15</td>\n",
       "</tr>\n",
       "<tr>\n",
       "  <th>Time:</th>               <td>14:20:22</td>     <th>  Pearson chi2:      </th> <td>1.77e+03</td>\n",
       "</tr>\n",
       "<tr>\n",
       "  <th>No. Iterations:</th>         <td>6</td>        <th>                     </th>     <td> </td>   \n",
       "</tr>\n",
       "</table>\n",
       "<table class=\"simpletable\">\n",
       "<tr>\n",
       "      <td></td>        <th>coef</th>     <th>std err</th>      <th>z</th>      <th>P>|z|</th>  <th>[0.025</th>    <th>0.975]</th>  \n",
       "</tr>\n",
       "<tr>\n",
       "  <th>const</th>    <td>   -2.6937</td> <td>    0.264</td> <td>  -10.188</td> <td> 0.000</td> <td>   -3.212</td> <td>   -2.175</td>\n",
       "</tr>\n",
       "<tr>\n",
       "  <th>livebait</th> <td>    1.5109</td> <td>    0.234</td> <td>    6.452</td> <td> 0.000</td> <td>    1.052</td> <td>    1.970</td>\n",
       "</tr>\n",
       "<tr>\n",
       "  <th>camper</th>   <td>    0.5415</td> <td>    0.093</td> <td>    5.806</td> <td> 0.000</td> <td>    0.359</td> <td>    0.724</td>\n",
       "</tr>\n",
       "<tr>\n",
       "  <th>persons</th>  <td>    0.8828</td> <td>    0.041</td> <td>   21.578</td> <td> 0.000</td> <td>    0.803</td> <td>    0.963</td>\n",
       "</tr>\n",
       "<tr>\n",
       "  <th>child</th>    <td>   -1.4564</td> <td>    0.082</td> <td>  -17.711</td> <td> 0.000</td> <td>   -1.618</td> <td>   -1.295</td>\n",
       "</tr>\n",
       "</table>"
      ],
      "text/plain": [
       "<class 'statsmodels.iolib.summary.Summary'>\n",
       "\"\"\"\n",
       "                 Generalized Linear Model Regression Results                  \n",
       "==============================================================================\n",
       "Dep. Variable:                  count   No. Observations:                  248\n",
       "Model:                            GLM   Df Residuals:                      243\n",
       "Model Family:                 Poisson   Df Model:                            4\n",
       "Link Function:                    log   Scale:                             1.0\n",
       "Method:                          IRLS   Log-Likelihood:                -611.18\n",
       "Date:                Tue, 06 Feb 2018   Deviance:                       898.15\n",
       "Time:                        14:20:22   Pearson chi2:                 1.77e+03\n",
       "No. Iterations:                     6                                         \n",
       "==============================================================================\n",
       "                 coef    std err          z      P>|z|      [0.025      0.975]\n",
       "------------------------------------------------------------------------------\n",
       "const         -2.6937      0.264    -10.188      0.000      -3.212      -2.175\n",
       "livebait       1.5109      0.234      6.452      0.000       1.052       1.970\n",
       "camper         0.5415      0.093      5.806      0.000       0.359       0.724\n",
       "persons        0.8828      0.041     21.578      0.000       0.803       0.963\n",
       "child         -1.4564      0.082    -17.711      0.000      -1.618      -1.295\n",
       "==============================================================================\n",
       "\"\"\""
      ]
     },
     "execution_count": 109,
     "metadata": {},
     "output_type": "execute_result"
    }
   ],
   "source": [
    "y_poi = fish[['count']]\n",
    "x_poi = fish[['livebait', 'camper', 'persons', 'child']]\n",
    "x_poi = sm.add_constant(x_poi)\n",
    "glm_poi = sm.GLM(y_poi,\n",
    "                 x_poi,\n",
    "                 family = sm.families.Poisson()).fit()\n",
    "glm_poi.summary()"
   ]
  },
  {
   "cell_type": "code",
   "execution_count": 102,
   "metadata": {},
   "outputs": [
    {
     "name": "stdout",
     "output_type": "stream",
     "text": [
      "livebait :  4.5308122135181375\n",
      "camper :  1.718640833439073\n",
      "persons :  2.4176653282087495\n",
      "child :  0.23308517241128512\n"
     ]
    }
   ],
   "source": [
    "import math\n",
    "variables = ['livebait', 'camper', 'persons', 'child']\n",
    "for y, x in enumerate(list(glm_poi.params)[1:]):\n",
    "    coef = math.exp(x)\n",
    "    print(variables[y], ': ', coef)"
   ]
  },
  {
   "cell_type": "code",
   "execution_count": 104,
   "metadata": {},
   "outputs": [],
   "source": [
    "#Using livebait was associated on average with 4.53 additional fish caught, holding other variables constant. \n",
    "#An additional 1 person in the group is associated on average with 2.4 additional fish caught, holding other variables constant. "
   ]
  },
  {
   "cell_type": "code",
   "execution_count": 106,
   "metadata": {},
   "outputs": [
    {
     "data": {
      "text/html": [
       "<table class=\"simpletable\">\n",
       "<caption>Generalized Linear Model Regression Results</caption>\n",
       "<tr>\n",
       "  <th>Dep. Variable:</th>        <td>count</td>      <th>  No. Observations:  </th>  <td>   248</td> \n",
       "</tr>\n",
       "<tr>\n",
       "  <th>Model:</th>                 <td>GLM</td>       <th>  Df Residuals:      </th>  <td>   244</td> \n",
       "</tr>\n",
       "<tr>\n",
       "  <th>Model Family:</th>        <td>Poisson</td>     <th>  Df Model:          </th>  <td>     3</td> \n",
       "</tr>\n",
       "<tr>\n",
       "  <th>Link Function:</th>         <td>log</td>       <th>  Scale:             </th>    <td>1.0</td>  \n",
       "</tr>\n",
       "<tr>\n",
       "  <th>Method:</th>               <td>IRLS</td>       <th>  Log-Likelihood:    </th> <td> -880.08</td>\n",
       "</tr>\n",
       "<tr>\n",
       "  <th>Date:</th>           <td>Tue, 06 Feb 2018</td> <th>  Deviance:          </th> <td>  1435.9</td>\n",
       "</tr>\n",
       "<tr>\n",
       "  <th>Time:</th>               <td>14:17:49</td>     <th>  Pearson chi2:      </th> <td>2.68e+03</td>\n",
       "</tr>\n",
       "<tr>\n",
       "  <th>No. Iterations:</th>         <td>6</td>        <th>                     </th>     <td> </td>   \n",
       "</tr>\n",
       "</table>\n",
       "<table class=\"simpletable\">\n",
       "<tr>\n",
       "      <td></td>        <th>coef</th>     <th>std err</th>      <th>z</th>      <th>P>|z|</th>  <th>[0.025</th>    <th>0.975]</th>  \n",
       "</tr>\n",
       "<tr>\n",
       "  <th>const</th>    <td>   -0.5165</td> <td>    0.237</td> <td>   -2.179</td> <td> 0.029</td> <td>   -0.981</td> <td>   -0.052</td>\n",
       "</tr>\n",
       "<tr>\n",
       "  <th>livebait</th> <td>    1.5300</td> <td>    0.233</td> <td>    6.555</td> <td> 0.000</td> <td>    1.073</td> <td>    1.988</td>\n",
       "</tr>\n",
       "<tr>\n",
       "  <th>camper</th>   <td>    0.6227</td> <td>    0.093</td> <td>    6.714</td> <td> 0.000</td> <td>    0.441</td> <td>    0.804</td>\n",
       "</tr>\n",
       "<tr>\n",
       "  <th>child</th>    <td>   -0.9877</td> <td>    0.081</td> <td>  -12.253</td> <td> 0.000</td> <td>   -1.146</td> <td>   -0.830</td>\n",
       "</tr>\n",
       "</table>"
      ],
      "text/plain": [
       "<class 'statsmodels.iolib.summary.Summary'>\n",
       "\"\"\"\n",
       "                 Generalized Linear Model Regression Results                  \n",
       "==============================================================================\n",
       "Dep. Variable:                  count   No. Observations:                  248\n",
       "Model:                            GLM   Df Residuals:                      244\n",
       "Model Family:                 Poisson   Df Model:                            3\n",
       "Link Function:                    log   Scale:                             1.0\n",
       "Method:                          IRLS   Log-Likelihood:                -880.08\n",
       "Date:                Tue, 06 Feb 2018   Deviance:                       1435.9\n",
       "Time:                        14:17:49   Pearson chi2:                 2.68e+03\n",
       "No. Iterations:                     6                                         \n",
       "==============================================================================\n",
       "                 coef    std err          z      P>|z|      [0.025      0.975]\n",
       "------------------------------------------------------------------------------\n",
       "const         -0.5165      0.237     -2.179      0.029      -0.981      -0.052\n",
       "livebait       1.5300      0.233      6.555      0.000       1.073       1.988\n",
       "camper         0.6227      0.093      6.714      0.000       0.441       0.804\n",
       "child         -0.9877      0.081    -12.253      0.000      -1.146      -0.830\n",
       "==============================================================================\n",
       "\"\"\""
      ]
     },
     "execution_count": 106,
     "metadata": {},
     "output_type": "execute_result"
    }
   ],
   "source": [
    "#dropping persons\n",
    "y_poi = fish[['count']]\n",
    "x_poi = fish[['livebait', 'camper', 'child']]\n",
    "x_poi = sm.add_constant(x_poi)\n",
    "glm_poi2 = sm.GLM(y_poi,\n",
    "                 x_poi,\n",
    "                 family = sm.families.Poisson()).fit()\n",
    "glm_poi2.summary()"
   ]
  },
  {
   "cell_type": "code",
   "execution_count": 110,
   "metadata": {},
   "outputs": [
    {
     "name": "stdout",
     "output_type": "stream",
     "text": [
      "Difference in Deviance:  537.800554561\n",
      "p-value of test of difference:  0.0\n"
     ]
    }
   ],
   "source": [
    "from scipy.stats import chi2\n",
    "D_poi =  glm_poi2.deviance - glm_poi.deviance \n",
    "print('Difference in Deviance: ', D_poi)\n",
    "pval_poi = 1 - chi2.cdf(D_poi, 1)\n",
    "print('p-value of test of difference: ', pval_poi)"
   ]
  },
  {
   "cell_type": "code",
   "execution_count": null,
   "metadata": {
    "collapsed": true
   },
   "outputs": [],
   "source": [
    "#reduced model is NOT better. We can reject that the reduced model is better at the 1% level."
   ]
  },
  {
   "cell_type": "markdown",
   "metadata": {},
   "source": [
    "**BONUS:** **Regardless of your answer to 5.5**, build a **zero-inflated** Poisson regression model without zero-inflation predicting `count`. Interpret your findings."
   ]
  },
  {
   "cell_type": "code",
   "execution_count": null,
   "metadata": {
    "collapsed": true
   },
   "outputs": [],
   "source": []
  }
 ],
 "metadata": {
  "kernelspec": {
   "display_name": "Python 3",
   "language": "python",
   "name": "python3"
  },
  "language_info": {
   "codemirror_mode": {
    "name": "ipython",
    "version": 3
   },
   "file_extension": ".py",
   "mimetype": "text/x-python",
   "name": "python",
   "nbconvert_exporter": "python",
   "pygments_lexer": "ipython3",
   "version": "3.6.3"
  }
 },
 "nbformat": 4,
 "nbformat_minor": 2
}
