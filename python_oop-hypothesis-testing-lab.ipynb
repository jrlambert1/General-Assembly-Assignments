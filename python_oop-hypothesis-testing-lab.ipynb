{
 "cells": [
  {
   "cell_type": "markdown",
   "metadata": {},
   "source": [
    "<img src=\"http://imgur.com/1ZcRyrc.png\" style=\"float: left; margin: 20px; height: 55px\">\n",
    "\n",
    "## Hypothesis Testing in the Land of Objects\n",
    "\n",
    "_Authors: Justin Pounders (ATL)_\n",
    "\n",
    "---\n"
   ]
  },
  {
   "cell_type": "code",
   "execution_count": 1,
   "metadata": {
    "collapsed": true
   },
   "outputs": [],
   "source": [
    "import numpy as np\n",
    "import scipy.stats as stats\n",
    "import seaborn as sns\n",
    "import matplotlib.pyplot as plt\n",
    "\n",
    "sns.set_style('whitegrid')\n",
    "\n",
    "%config InlineBackend.figure_format = 'retina'\n",
    "%matplotlib inline"
   ]
  },
  {
   "cell_type": "markdown",
   "metadata": {},
   "source": [
    "### Lab Guide\n",
    "\n",
    "- [Frequentist Hypothesis Testing: A Drug Efficacy Example](#frequentist-hypothesis-testing)\n",
    "- [The \"Null\" Hypothesis](#null-hypothesis)\n",
    "- [The \"Alternative Hypothesis\"](#alternative-hypothesis)\n",
    "- [Introduction to the T-Test](#t-tests)\n",
    "- [The Likelihood of the Data Given the Null Hypothesis](#likelihood-data)\n",
    "- [Enough review... On to the code!](#code)\n"
   ]
  },
  {
   "cell_type": "markdown",
   "metadata": {},
   "source": [
    "## Objective\n",
    "\n",
    "In today's lab you will build a class to perform t-tests.  This will give you practice both with object oriented programming and statistical hypothesis testing!  \n",
    "\n",
    "Specifically, you will practice...\n",
    "\n",
    "- making a class,\n",
    "- implementing formulas with `numpy`\n",
    "- calculating probabilities with `scipy.stats`\n",
    "- hypothesis testing\n",
    "\n",
    "First, here is the example you will be working on."
   ]
  },
  {
   "cell_type": "markdown",
   "metadata": {},
   "source": [
    "### Frequentist Hypothesis Testing: A Drug Efficacy Example\n",
    "\n",
    "---\n",
    "\n",
    "Frequentist methods lend themselves well to the concepts of experimental design. For example, say we are testing the efficacy of a new drug:\n",
    "\n",
    "- We randomly select 50 people to be in the placebo control condition and 50 people to recieve the treatment.\n",
    "- We know our sample is selected from a broader, unknown population pool.\n",
    "- We can imagine that, in a hypothetical parallel world, we could have ended up with a different random sample of subjects from the population pool.\n",
    "\n",
    "Below you will find a brief review of hypothesis testing.  \n",
    "\n",
    "**If you don't want to read this review you can jump straight to the [code section](#code).**"
   ]
  },
  {
   "cell_type": "markdown",
   "metadata": {},
   "source": [
    "<a id='null-hypothesis'></a>\n",
    "\n",
    "### The \"Null\" Hypothesis\n",
    "\n",
    "---\n",
    "\n",
    "The **null hypothesis** is a fundamental concept of Frequentist statistical tests. We typically denote the null hypothesis with **H0**. \n",
    "\n",
    "In our drug efficacy experiment example, our null hypothesis could be that there is no difference between a subject taking a placebo and and one taking the treatment drug.\n",
    "\n",
    "In the context of experiments, we often talk about the \"control\" group and the \"experimental\" or \"treatment\" group. In our example, the control group is the one given the placebo and the treatment group is the one given the actual drug. We are interested in the average difference in blood pressure levels between the treatment and control groups.\n",
    "\n",
    "> **H0:** The mean difference between treatment and control groups is zero."
   ]
  },
  {
   "cell_type": "markdown",
   "metadata": {},
   "source": [
    "<a id='alternative-hypothesis'></a>\n",
    "\n",
    "### The \"Alternative Hypothesis\"\n",
    "\n",
    "---\n",
    "\n",
    "The **alternative hypothesis** is the outcome of the experiment that we hope to show. In our example, the alternative hypothesis is that there is in fact a mean difference in blood pressure between the treatment and control groups. \n",
    "\n",
    "> **H1:** The parameter of interest — our mean difference between treatment and control — is different than zero.\n",
    "\n",
    "**NOTE:** The null and alternative hypotheses are concerned with the true values, or, in other words, the *parameter of the overall population*. Through the process of experimentation/hypothesis testing and statistical analysis of the results, we will make an *inference* about this population parameter."
   ]
  },
  {
   "cell_type": "markdown",
   "metadata": {},
   "source": [
    "<a id='t-tests'></a>\n",
    "\n",
    "### Review of the T-Test\n",
    "\n",
    "---\n",
    "\n",
    "Say that, in our experiment, we measure the following results:\n",
    "\n",
    "- The 50 subjects in the control group have an average systolic blood pressure of 121.38.\n",
    "- The 50 subjects in the experimental/treatment group have an average systolic blood pressure of 111.56.\n",
    "\n",
    "The difference between experimental and control groups is -9.82 points. But, with 50 subjects in each group, how confident can we be that this measured difference is real? We can perform what is known as a **t-test** to evaluate this.\n",
    "\n",
    "First, we will calculate a **t-statistic**. The t-statistic is a measure of the degree to which our groups differ, standardized by the variance of our measurements.\n",
    "\n",
    "Secondly, we will calculate a **p-value**. The p-value is a metric that indicates a probability that our measured difference was because of random chance in the sampling of subjects.\n",
    "\n"
   ]
  },
  {
   "cell_type": "markdown",
   "metadata": {},
   "source": [
    "**We can set up the experimental and control observations below as `numpy` arrays.**"
   ]
  },
  {
   "cell_type": "code",
   "execution_count": 2,
   "metadata": {},
   "outputs": [
    {
     "name": "stdout",
     "output_type": "stream",
     "text": [
      "121.38\n",
      "111.56\n",
      "-9.82\n"
     ]
    }
   ],
   "source": [
    "control = np.array([166, 165, 120,  94, 104, 166,  98,  85,  97,  87, 114, 100, 152,\n",
    "                    87, 152, 102,  82,  80,  84, 109,  98, 154, 135, 164, 137, 128,\n",
    "                    122, 146,  86, 146,  85, 101, 109, 105, 163, 136, 142, 144, 140,\n",
    "                    128, 126, 119, 121, 126, 169,  87,  97, 167,  89, 155])\n",
    "\n",
    "experimental = np.array([ 83, 100, 123,  75, 130,  77,  78,  87, 116, 116, 141,  93, 107,\n",
    "                         101, 142, 152, 130, 123, 122, 154, 119, 149, 106, 107, 108, 151,\n",
    "                         97,  95, 104, 141,  80, 110, 136, 134, 142, 135, 111,  83,  86,\n",
    "                         116,  86, 117,  87, 143, 104, 107,  86,  88, 124,  76])\n",
    "\n",
    "print(np.mean(control))\n",
    "print(np.mean(experimental))\n",
    "print(np.mean(experimental) - np.mean(control))"
   ]
  },
  {
   "cell_type": "markdown",
   "metadata": {},
   "source": [
    "<a id='likelihood-data'></a>\n",
    "\n",
    "### The Likelihood of the Data Given the Null Hypothesis \n",
    "\n",
    "---\n",
    "\n",
    "For our experiment, we will set up a null hypothesis and an alternative hypothesis:\n",
    "\n",
    "> **H0:** The difference in systolic blood pressure between the experimental and control groups is 0.\n",
    "\n",
    "> **H1:** The difference in systolic blood pressure between the experimental and control groups is not 0.\n",
    "\n",
    "Likewise, our measured difference is **-9.82**.\n",
    "\n",
    "Recall that, as Frequentists, we want to know:\n",
    "\n",
    "### $$P(\\text{data}\\;|\\;\\text{mean difference})$$\n",
    "\n",
    "**What is the probability that we observed this data, GIVEN a specified mean difference in blood pressure.**\n",
    "\n",
    "We obviously don't know the true mean difference in blood pressure resulting from the drug. The whole point of conducting the experiment is to evaluate its efficacy. **Instead, we will assume that the true mean difference is zero: The null hypothesis `H0` is assumed to be true.**\n",
    "\n",
    "### $$P(\\text{data}\\;|\\;\\text{mean difference}=0)$$\n"
   ]
  },
  {
   "cell_type": "markdown",
   "metadata": {},
   "source": [
    "<a id='code'></a>\n",
    "\n",
    "## Enough review... On to the code!"
   ]
  },
  {
   "cell_type": "markdown",
   "metadata": {},
   "source": [
    "Here are the code requirements for today's exercise.\n",
    "\n",
    "You are to write a class named `TwoSampleTTest`.\n",
    "\n",
    "- For attributes, your class should store two samples (e.g., the two groups in the drug test), a t-statistics and a p-value.\n",
    "- The two samples should always be provided when you first instantiate an object; the t-statistic and p-value attributes should initially be set as `None`.\n",
    "- For methods, you should implement the following\n",
    "\n",
    "  - `calc_tstat`: this method should calculate the t-statistic and save it as an attribute in the object\n",
    "  - `calc_pvalue`: this method should calculate the two-tailed p-value. *You should call the calc_tstat method to do this.*\n",
    "  - `results`: this method should accept a significance level (alpha) as input, and print a human-readable message to the screen describing the outcome of the t-test.  Choose whatever words and numbers you want, just make sure that it is clear.\n",
    "  \n",
    "The formula for the two-sample t-statistic is provided below as a reminder."
   ]
  },
  {
   "cell_type": "markdown",
   "metadata": {},
   "source": [
    "### $$t = \\frac{\\bar{x}_1 - \\bar{x}_2}{\\sqrt {s^2 (\\frac{1}{n_1} + \\frac{1}{n_2})}}$$\n",
    "\n",
    "where... \n",
    "\n",
    "- $\\bar{x}_1$ is the mean of the first sample of data and `$\\bar{x}_2$` is the mean of of the second sample of data.\n",
    "- $n_1$ and $n_2$ are the number of observations in each sample\n",
    "- $s^2$ denotes the pooled *sample variance*, calculated as follows\n",
    "\n",
    "### $$ s^2 = \\frac{\\sum_{i=1}^{n_1} (x_i - \\bar{x}_1)^2 + \\sum_{j=1}^{n_2} (x_j - \\bar{x}_2)^2}{ n_1 + n_2 -2} $$"
   ]
  },
  {
   "cell_type": "markdown",
   "metadata": {},
   "source": [
    "In this exercise, you should calculate the p-value manually!  This means calculating the t-statistic, then using the cdf of the t distribution to get the probability assigned to the p-value.  The t-distribution can be calculated from `scipy.stats` as follows\n",
    "\n",
    "```python\n",
    "tdist = stats.t(n1 + n2 - 2)\n",
    "# the cdf is now tdist.cdf(x)\n",
    "```"
   ]
  },
  {
   "cell_type": "code",
   "execution_count": 3,
   "metadata": {
    "collapsed": true
   },
   "outputs": [],
   "source": [
    "# make sure you use this data\n",
    "control = np.array([166, 165, 120,  94, 104, 166,  98,  85,  97,  87, 114, 100, 152,\n",
    "                    87, 152, 102,  82,  80,  84, 109,  98, 154, 135, 164, 137, 128,\n",
    "                    122, 146,  86, 146,  85, 101, 109, 105, 163, 136, 142, 144, 140,\n",
    "                    128, 126, 119, 121, 126, 169,  87,  97, 167,  89, 155])\n",
    "\n",
    "experimental = np.array([ 83, 100, 123,  75, 130,  77,  78,  87, 116, 116, 141,  93, 107,\n",
    "                         101, 142, 152, 130, 123, 122, 154, 119, 149, 106, 107, 108, 151,\n",
    "                         97,  95, 104, 141,  80, 110, 136, 134, 142, 135, 111,  83,  86,\n",
    "                         116,  86, 117,  87, 143, 104, 107,  86,  88, 124,  76])"
   ]
  },
  {
   "cell_type": "code",
   "execution_count": 98,
   "metadata": {},
   "outputs": [],
   "source": [
    "# Write your class here\n",
    "class TwoSampleTTest(object):\n",
    "    \n",
    "    def __init__(self, samp1, samp2):\n",
    "        \n",
    "        self.samp1 = samp1\n",
    "        self.samp2 = samp2\n",
    "        self.t = None\n",
    "        self.p = None\n",
    "        \n",
    "    def calc_tstat(self):\n",
    "        mean1 = np.mean(self.samp1)\n",
    "        mean2 = np.mean(self.samp2)\n",
    "        pooled_var = np.sum(((self.samp1 - mean1)**2) + ((self.samp2 - mean2)**2))/(len(self.samp1) + len(self.samp2) - 2)\n",
    "        divisor = np.sqrt(pooled_var * (1/len(self.samp1) + 1/len(self.samp2)))\n",
    "        return (mean1 - mean2) / divisor\n",
    "    \n",
    "    def calc_pstat(self):\n",
    "        tdist = stats.t(len(self.samp1) + len(self.samp2) - 2)\n",
    "        #upper = 1 - tdist.cdf(self.calc_tstat())\n",
    "        #lower = tdist.cdf(self.calc_tstat)\n",
    "        return (1 - tdist.cdf(self.calc_tstat())) * 2\n",
    "    \n",
    "    def results(self, alpha):\n",
    "        if alpha > 1:\n",
    "            print('Enter desired interval between 0 and 1')\n",
    "        elif self.calc_pstat() > alpha:\n",
    "            print('The null hypothesis can\\'t be rejected at the {} confidence level'.format(alpha))\n",
    "        else:\n",
    "            print('The null hypothesis can be rejected at the {}% confidence level because of a p_value of {}'.format(alpha, self.calc_pstat()))"
   ]
  },
  {
   "cell_type": "code",
   "execution_count": null,
   "metadata": {
    "collapsed": true
   },
   "outputs": [],
   "source": [
    "#else:\n",
    "            #print('The null hypothesis can be rejected at the {}% confidence level because of a p_value of {}'.format(alpha, self.calc_pstat()))\n",
    "            "
   ]
  },
  {
   "cell_type": "code",
   "execution_count": 72,
   "metadata": {},
   "outputs": [
    {
     "data": {
      "text/plain": [
       "0.061504240672530575"
      ]
     },
     "execution_count": 72,
     "metadata": {},
     "output_type": "execute_result"
    }
   ],
   "source": [
    "press = TwoSampleTTest(control, experimental)\n",
    "# print((1 - press.calc_pstat()) * 2)\n",
    "press.calc_pstat()"
   ]
  },
  {
   "cell_type": "markdown",
   "metadata": {},
   "source": [
    "You can use the following cells to test your class:"
   ]
  },
  {
   "cell_type": "code",
   "execution_count": 100,
   "metadata": {
    "collapsed": true
   },
   "outputs": [],
   "source": [
    "# Instantiate an object\n",
    "ttest = TwoSampleTTest(control, experimental)"
   ]
  },
  {
   "cell_type": "code",
   "execution_count": 74,
   "metadata": {},
   "outputs": [
    {
     "data": {
      "text/plain": [
       "1.8915462966190268"
      ]
     },
     "execution_count": 74,
     "metadata": {},
     "output_type": "execute_result"
    }
   ],
   "source": [
    "# Calculate the t-stat (should be +/- 1.89)\n",
    "ttest.calc_tstat()"
   ]
  },
  {
   "cell_type": "code",
   "execution_count": 83,
   "metadata": {},
   "outputs": [
    {
     "data": {
      "text/plain": [
       "0.061504240672530575"
      ]
     },
     "execution_count": 83,
     "metadata": {},
     "output_type": "execute_result"
    }
   ],
   "source": [
    "# Calculate the two-tailed p-value (should be 0.0615)\n",
    "ttest.calc_pstat()"
   ]
  },
  {
   "cell_type": "code",
   "execution_count": 101,
   "metadata": {},
   "outputs": [
    {
     "name": "stdout",
     "output_type": "stream",
     "text": [
      "The null hypothesis can't be rejected at the 0.05 confidence level\n"
     ]
    }
   ],
   "source": [
    "# Show the results\n",
    "ttest.results(0.05)"
   ]
  },
  {
   "cell_type": "markdown",
   "metadata": {},
   "source": [
    "### Bonus\n",
    "\n",
    "---\n",
    "\n",
    "If you are looking for some extra practice, try implementing the one-tailed p-value in addition to the two-tailed p-value that you implemented above!"
   ]
  },
  {
   "cell_type": "code",
   "execution_count": null,
   "metadata": {
    "collapsed": true
   },
   "outputs": [],
   "source": []
  }
 ],
 "metadata": {
  "kernelspec": {
   "display_name": "Python 3",
   "language": "python",
   "name": "python3"
  },
  "language_info": {
   "codemirror_mode": {
    "name": "ipython",
    "version": 3
   },
   "file_extension": ".py",
   "mimetype": "text/x-python",
   "name": "python",
   "nbconvert_exporter": "python",
   "pygments_lexer": "ipython3",
   "version": "3.6.3"
  }
 },
 "nbformat": 4,
 "nbformat_minor": 2
}
