{
 "cells": [
  {
   "cell_type": "markdown",
   "metadata": {},
   "source": [
    "<img src=\"http://imgur.com/1ZcRyrc.png\" style=\"float: left; margin: 20px; height: 55px\">\n",
    "\n",
    "# Predicting \"Greenness\" of Content\n",
    "\n",
    "_Authors: Joseph Nelson (DC), Kiefer Katovich (SF)_\n",
    "\n",
    "---\n",
    "\n",
    "\n",
    "This data set comes from [StumbleUpon](https://www.stumbleupon.com/), a web page recommender, and was made available [here](https://www.kaggle.com/c/stumbleupon/download/train.tsv).\n",
    "\n",
    "Below is a description of the columns:\n",
    "\n",
    "FieldName|Type|Description\n",
    "---------|----|-----------\n",
    "url|string|URL of the web page to be classified\n",
    "urlid|integer| StumbleUpon's unique identifier for each URL\n",
    "boilerplate|json|Boilerplate text\n",
    "alchemy_category|string|Alchemy category (per the publicly available AlchemyAPI found at www.alchemyapi.com)\n",
    "alchemy_category_score|double|Alchemy category score (per the publicly available AlchemyAPI found at www.alchemyapi.com)\n",
    "avglinksize| double|Average number of words in each link\n",
    "commonLinkRatio_1|double|Number of links sharing at least one word with one other link/number of links\n",
    "commonLinkRatio_2|double|Number of links sharing at least one word with two other links/number of links\n",
    "commonLinkRatio_3|double|Number of links sharing at least one word with three other links/number of links\n",
    "commonLinkRatio_4|double|Number of links sharing at least one word with four other links/number of links\n",
    "compression_ratio|double|Compression achieved on this page via gzip (measure of redundancy).\n",
    "embed_ratio|double|Count of the number of <embed> usages\n",
    "frameBased|integer (0 or 1)|A page is frame based (1) if it has no body markup but has a frameset markup\n",
    "frameTagRatio|double|Ratio of the iframe markups over the total number of markups\n",
    "hasDomainLink|integer (0 or 1)|True (1) if it contains a URL with a domain\n",
    "html_ratio|double|Ratio of tags vs. text in the page\n",
    "image_ratio|double|Ratio of <img> tags vs. text in the page\n",
    "is_news|integer (0 or 1) | True (1) if StumbleUpon's news classifier determines that this web page is news\n",
    "lengthyLinkDomain| integer (0 or 1)|True (1) if at least three <a>'s text contain more than 30 alphanumeric characters\n",
    "linkwordscore|double|Percentage of words on the page that are hyperlinks\n",
    "news_front_page| integer (0 or 1)|True (1) if StumbleUpon's news classifier determines that this web page is front-page news\n",
    "non_markup_alphanum_characters|integer| Page's text's number of alphanumeric characters\n",
    "numberOfLinks|integer Number of <a>| Markups\n",
    "numwords_in_url| double|Number of words in URL\n",
    "parametrizedLinkRatio|double|A link is parametrized if it's URL contains parameters or has an attached onclick event\n",
    "spelling_errors_ratio|double|Ratio of words not found in wiki (considered to be a spelling mistake)\n",
    "label|integer (0 or 1)|User-determined label. Either evergreen (1) or non-evergreen (0); available for train.tsv only"
   ]
  },
  {
   "cell_type": "code",
   "execution_count": 1,
   "metadata": {
    "collapsed": true
   },
   "outputs": [],
   "source": [
    "import pandas as pd\n",
    "import numpy as np\n",
    "import seaborn as sns\n",
    "import matplotlib.pyplot as plt\n",
    "import json\n",
    "%matplotlib inline\n",
    "\n",
    "# Set max printout options for Pandas.\n",
    "pd.options.display.max_columns = 50\n",
    "pd.options.display.max_colwidth = 300"
   ]
  },
  {
   "cell_type": "markdown",
   "metadata": {},
   "source": [
    "### 1) Load the data.\n",
    "- Note that it's a `.tsv` file and has a tab separator instead of comma.\n",
    "- Clean the `is_news` column.\n",
    "- Create two new columns, `title` and `body`, from the `boilerplate` column.\n",
    "\n",
    "> **Note:** The `boilerplate` column is in JSON dictionary format. You can use the `json.loads()` function from the `json` module to convert this into a Python dictionary."
   ]
  },
  {
   "cell_type": "code",
   "execution_count": 3,
   "metadata": {
    "collapsed": true
   },
   "outputs": [],
   "source": [
    "evergreen_tsv = './datasets/evergreen_sites.tsv'"
   ]
  },
  {
   "cell_type": "code",
   "execution_count": 4,
   "metadata": {},
   "outputs": [],
   "source": [
    "# A:\n",
    "data = pd.read_csv(evergreen_tsv, sep='\\t', na_values={'is_news' : '?'}).fillna(0)"
   ]
  },
  {
   "cell_type": "code",
   "execution_count": 5,
   "metadata": {
    "collapsed": true
   },
   "outputs": [],
   "source": [
    "# Extract the title and body from the boilerplate JSON text\n",
    "data['title'] = data.boilerplate.map(lambda x: json.loads(x).get('title', ''))\n",
    "data['body'] = data.boilerplate.map(lambda x: json.loads(x).get('body', ''))"
   ]
  },
  {
   "cell_type": "code",
   "execution_count": 8,
   "metadata": {
    "collapsed": true
   },
   "outputs": [
    {
     "name": "stdout",
     "output_type": "stream",
     "text": [
      "<class 'pandas.core.frame.DataFrame'>\n",
      "RangeIndex: 7395 entries, 0 to 7394\n",
      "Data columns (total 29 columns):\n",
      "url                               7395 non-null object\n",
      "urlid                             7395 non-null int64\n",
      "boilerplate                       7395 non-null object\n",
      "alchemy_category                  7395 non-null object\n",
      "alchemy_category_score            7395 non-null object\n",
      "avglinksize                       7395 non-null float64\n",
      "commonlinkratio_1                 7395 non-null float64\n",
      "commonlinkratio_2                 7395 non-null float64\n",
      "commonlinkratio_3                 7395 non-null float64\n",
      "commonlinkratio_4                 7395 non-null float64\n",
      "compression_ratio                 7395 non-null float64\n",
      "embed_ratio                       7395 non-null float64\n",
      "framebased                        7395 non-null int64\n",
      "frameTagRatio                     7395 non-null float64\n",
      "hasDomainLink                     7395 non-null int64\n",
      "html_ratio                        7395 non-null float64\n",
      "image_ratio                       7395 non-null float64\n",
      "is_news                           7395 non-null float64\n",
      "lengthyLinkDomain                 7395 non-null int64\n",
      "linkwordscore                     7395 non-null int64\n",
      "news_front_page                   7395 non-null object\n",
      "non_markup_alphanum_characters    7395 non-null int64\n",
      "numberOfLinks                     7395 non-null int64\n",
      "numwords_in_url                   7395 non-null int64\n",
      "parametrizedLinkRatio             7395 non-null float64\n",
      "spelling_errors_ratio             7395 non-null float64\n",
      "label                             7395 non-null int64\n",
      "title                             7383 non-null object\n",
      "body                              7338 non-null object\n",
      "dtypes: float64(13), int64(9), object(7)\n",
      "memory usage: 1.6+ MB\n"
     ]
    }
   ],
   "source": [
    "data.info()"
   ]
  },
  {
   "cell_type": "markdown",
   "metadata": {},
   "source": [
    "### 2) What are \"evergreen\" sites?\n",
    "- These are websites that have content that's always relevant — like recipes or reviews — as opposed to current events.\n",
    "- \"Evergreen\" is stored as a binary indicator in the `label` column.\n",
    "- Let's look at some examples:"
   ]
  },
  {
   "cell_type": "code",
   "execution_count": 11,
   "metadata": {
    "collapsed": true
   },
   "outputs": [
    {
     "data": {
      "text/html": [
       "<div>\n",
       "<style scoped>\n",
       "    .dataframe tbody tr th:only-of-type {\n",
       "        vertical-align: middle;\n",
       "    }\n",
       "\n",
       "    .dataframe tbody tr th {\n",
       "        vertical-align: top;\n",
       "    }\n",
       "\n",
       "    .dataframe thead th {\n",
       "        text-align: right;\n",
       "    }\n",
       "</style>\n",
       "<table border=\"1\" class=\"dataframe\">\n",
       "  <thead>\n",
       "    <tr style=\"text-align: right;\">\n",
       "      <th></th>\n",
       "      <th>url</th>\n",
       "      <th>urlid</th>\n",
       "      <th>boilerplate</th>\n",
       "      <th>alchemy_category</th>\n",
       "      <th>alchemy_category_score</th>\n",
       "      <th>avglinksize</th>\n",
       "      <th>commonlinkratio_1</th>\n",
       "      <th>commonlinkratio_2</th>\n",
       "      <th>commonlinkratio_3</th>\n",
       "      <th>commonlinkratio_4</th>\n",
       "      <th>compression_ratio</th>\n",
       "      <th>embed_ratio</th>\n",
       "      <th>framebased</th>\n",
       "      <th>frameTagRatio</th>\n",
       "      <th>hasDomainLink</th>\n",
       "      <th>html_ratio</th>\n",
       "      <th>image_ratio</th>\n",
       "      <th>is_news</th>\n",
       "      <th>lengthyLinkDomain</th>\n",
       "      <th>linkwordscore</th>\n",
       "      <th>news_front_page</th>\n",
       "      <th>non_markup_alphanum_characters</th>\n",
       "      <th>numberOfLinks</th>\n",
       "      <th>numwords_in_url</th>\n",
       "      <th>parametrizedLinkRatio</th>\n",
       "      <th>spelling_errors_ratio</th>\n",
       "      <th>label</th>\n",
       "      <th>title</th>\n",
       "      <th>body</th>\n",
       "    </tr>\n",
       "  </thead>\n",
       "  <tbody>\n",
       "    <tr>\n",
       "      <th>0</th>\n",
       "      <td>http://www.bloomberg.com/news/2010-12-23/ibm-predicts-holographic-calls-air-breathing-batteries-by-2015.html</td>\n",
       "      <td>4042</td>\n",
       "      <td>{\"title\":\"IBM Sees Holographic Calls Air Breathing Batteries ibm sees holographic calls, air-breathing batteries\",\"body\":\"A sign stands outside the International Business Machines Corp IBM Almaden Research Center campus in San Jose California Photographer Tony Avelar Bloomberg Buildings stand at...</td>\n",
       "      <td>business</td>\n",
       "      <td>0.789131</td>\n",
       "      <td>2.055556</td>\n",
       "      <td>0.676471</td>\n",
       "      <td>0.205882</td>\n",
       "      <td>0.047059</td>\n",
       "      <td>0.023529</td>\n",
       "      <td>0.443783</td>\n",
       "      <td>0.0</td>\n",
       "      <td>0</td>\n",
       "      <td>0.090774</td>\n",
       "      <td>0</td>\n",
       "      <td>0.245831</td>\n",
       "      <td>0.003883</td>\n",
       "      <td>1.0</td>\n",
       "      <td>1</td>\n",
       "      <td>24</td>\n",
       "      <td>0</td>\n",
       "      <td>5424</td>\n",
       "      <td>170</td>\n",
       "      <td>8</td>\n",
       "      <td>0.152941</td>\n",
       "      <td>0.079130</td>\n",
       "      <td>0</td>\n",
       "      <td>IBM Sees Holographic Calls Air Breathing Batteries ibm sees holographic calls, air-breathing batteries</td>\n",
       "      <td>A sign stands outside the International Business Machines Corp IBM Almaden Research Center campus in San Jose California Photographer Tony Avelar Bloomberg Buildings stand at the International Business Machines Corp IBM Almaden Research Center campus in the Santa Teresa Hills of San Jose Califor...</td>\n",
       "    </tr>\n",
       "    <tr>\n",
       "      <th>4</th>\n",
       "      <td>http://bleacherreport.com/articles/1205138-the-50-coolest-jerseys-you-didnt-know-existed?show_full=</td>\n",
       "      <td>9006</td>\n",
       "      <td>{\"title\":\"The 50 Coolest Jerseys You Didn t Know Existed coolest jerseys you haven't seen\",\"body\":\"Jersey sales is a curious business Whether you re buying the stylish top to represent your favorite team player or color you re always missing out on better artwork With No 18 Colts jerseys continu...</td>\n",
       "      <td>sports</td>\n",
       "      <td>0.719157</td>\n",
       "      <td>2.676471</td>\n",
       "      <td>0.500000</td>\n",
       "      <td>0.222222</td>\n",
       "      <td>0.123457</td>\n",
       "      <td>0.043210</td>\n",
       "      <td>0.446143</td>\n",
       "      <td>0.0</td>\n",
       "      <td>0</td>\n",
       "      <td>0.024908</td>\n",
       "      <td>0</td>\n",
       "      <td>0.228887</td>\n",
       "      <td>0.050473</td>\n",
       "      <td>1.0</td>\n",
       "      <td>1</td>\n",
       "      <td>14</td>\n",
       "      <td>0</td>\n",
       "      <td>12032</td>\n",
       "      <td>162</td>\n",
       "      <td>10</td>\n",
       "      <td>0.098765</td>\n",
       "      <td>0.082569</td>\n",
       "      <td>0</td>\n",
       "      <td>The 50 Coolest Jerseys You Didn t Know Existed coolest jerseys you haven't seen</td>\n",
       "      <td>Jersey sales is a curious business Whether you re buying the stylish top to represent your favorite team player or color you re always missing out on better artwork With No 18 Colts jerseys continuing to flood the streets it s about time we educate the sports public about the real masterpieces t...</td>\n",
       "    </tr>\n",
       "    <tr>\n",
       "      <th>5</th>\n",
       "      <td>http://www.conveniencemedical.com/genital-herpes-home.php</td>\n",
       "      <td>7018</td>\n",
       "      <td>{\"url\":\"conveniencemedical genital herpes home php\",\"title\":\"Genital Herpes Treatment \",\"body\":\"Genital herpes is caused by herpes simplex virus HSV 1 the most common type usually appears as cold sores on the mouth and lips whereas HSV 2 affects the genitals buttocks and rectum Patient s have re...</td>\n",
       "      <td>?</td>\n",
       "      <td>?</td>\n",
       "      <td>119.000000</td>\n",
       "      <td>0.745455</td>\n",
       "      <td>0.581818</td>\n",
       "      <td>0.290909</td>\n",
       "      <td>0.018182</td>\n",
       "      <td>0.434639</td>\n",
       "      <td>0.0</td>\n",
       "      <td>0</td>\n",
       "      <td>0.019841</td>\n",
       "      <td>0</td>\n",
       "      <td>0.298300</td>\n",
       "      <td>0.038636</td>\n",
       "      <td>0.0</td>\n",
       "      <td>0</td>\n",
       "      <td>12</td>\n",
       "      <td>?</td>\n",
       "      <td>4368</td>\n",
       "      <td>55</td>\n",
       "      <td>3</td>\n",
       "      <td>0.054545</td>\n",
       "      <td>0.087356</td>\n",
       "      <td>0</td>\n",
       "      <td>Genital Herpes Treatment</td>\n",
       "      <td>Genital herpes is caused by herpes simplex virus HSV 1 the most common type usually appears as cold sores on the mouth and lips whereas HSV 2 affects the genitals buttocks and rectum Patient s have reported that symptoms can appear five days after coming into contact with the virus on the other ...</td>\n",
       "    </tr>\n",
       "  </tbody>\n",
       "</table>\n",
       "</div>"
      ],
      "text/plain": [
       "                                                                                                            url  \\\n",
       "0  http://www.bloomberg.com/news/2010-12-23/ibm-predicts-holographic-calls-air-breathing-batteries-by-2015.html   \n",
       "4           http://bleacherreport.com/articles/1205138-the-50-coolest-jerseys-you-didnt-know-existed?show_full=   \n",
       "5                                                     http://www.conveniencemedical.com/genital-herpes-home.php   \n",
       "\n",
       "   urlid  \\\n",
       "0   4042   \n",
       "4   9006   \n",
       "5   7018   \n",
       "\n",
       "                                                                                                                                                                                                                                                                                                   boilerplate  \\\n",
       "0  {\"title\":\"IBM Sees Holographic Calls Air Breathing Batteries ibm sees holographic calls, air-breathing batteries\",\"body\":\"A sign stands outside the International Business Machines Corp IBM Almaden Research Center campus in San Jose California Photographer Tony Avelar Bloomberg Buildings stand at...   \n",
       "4  {\"title\":\"The 50 Coolest Jerseys You Didn t Know Existed coolest jerseys you haven't seen\",\"body\":\"Jersey sales is a curious business Whether you re buying the stylish top to represent your favorite team player or color you re always missing out on better artwork With No 18 Colts jerseys continu...   \n",
       "5  {\"url\":\"conveniencemedical genital herpes home php\",\"title\":\"Genital Herpes Treatment \",\"body\":\"Genital herpes is caused by herpes simplex virus HSV 1 the most common type usually appears as cold sores on the mouth and lips whereas HSV 2 affects the genitals buttocks and rectum Patient s have re...   \n",
       "\n",
       "  alchemy_category alchemy_category_score  avglinksize  commonlinkratio_1  \\\n",
       "0         business               0.789131     2.055556           0.676471   \n",
       "4           sports               0.719157     2.676471           0.500000   \n",
       "5                ?                      ?   119.000000           0.745455   \n",
       "\n",
       "   commonlinkratio_2  commonlinkratio_3  commonlinkratio_4  compression_ratio  \\\n",
       "0           0.205882           0.047059           0.023529           0.443783   \n",
       "4           0.222222           0.123457           0.043210           0.446143   \n",
       "5           0.581818           0.290909           0.018182           0.434639   \n",
       "\n",
       "   embed_ratio  framebased  frameTagRatio  hasDomainLink  html_ratio  \\\n",
       "0          0.0           0       0.090774              0    0.245831   \n",
       "4          0.0           0       0.024908              0    0.228887   \n",
       "5          0.0           0       0.019841              0    0.298300   \n",
       "\n",
       "   image_ratio  is_news  lengthyLinkDomain  linkwordscore news_front_page  \\\n",
       "0     0.003883      1.0                  1             24               0   \n",
       "4     0.050473      1.0                  1             14               0   \n",
       "5     0.038636      0.0                  0             12               ?   \n",
       "\n",
       "   non_markup_alphanum_characters  numberOfLinks  numwords_in_url  \\\n",
       "0                            5424            170                8   \n",
       "4                           12032            162               10   \n",
       "5                            4368             55                3   \n",
       "\n",
       "   parametrizedLinkRatio  spelling_errors_ratio  label  \\\n",
       "0               0.152941               0.079130      0   \n",
       "4               0.098765               0.082569      0   \n",
       "5               0.054545               0.087356      0   \n",
       "\n",
       "                                                                                                    title  \\\n",
       "0  IBM Sees Holographic Calls Air Breathing Batteries ibm sees holographic calls, air-breathing batteries   \n",
       "4                         The 50 Coolest Jerseys You Didn t Know Existed coolest jerseys you haven't seen   \n",
       "5                                                                               Genital Herpes Treatment    \n",
       "\n",
       "                                                                                                                                                                                                                                                                                                          body  \n",
       "0  A sign stands outside the International Business Machines Corp IBM Almaden Research Center campus in San Jose California Photographer Tony Avelar Bloomberg Buildings stand at the International Business Machines Corp IBM Almaden Research Center campus in the Santa Teresa Hills of San Jose Califor...  \n",
       "4  Jersey sales is a curious business Whether you re buying the stylish top to represent your favorite team player or color you re always missing out on better artwork With No 18 Colts jerseys continuing to flood the streets it s about time we educate the sports public about the real masterpieces t...  \n",
       "5  Genital herpes is caused by herpes simplex virus HSV 1 the most common type usually appears as cold sores on the mouth and lips whereas HSV 2 affects the genitals buttocks and rectum Patient s have reported that symptoms can appear five days after coming into contact with the virus on the other ...  "
      ]
     },
     "execution_count": 11,
     "metadata": {},
     "output_type": "execute_result"
    }
   ],
   "source": [
    "# A:\n",
    "data.loc[data.label == 1].head(3)\n",
    "data.loc[data.label == 0].head(3)"
   ]
  },
  {
   "cell_type": "markdown",
   "metadata": {},
   "source": [
    "### 3) Does being a news site affect greenness?\n",
    "\n",
    "**3.A Investigate with plots/EDA.**"
   ]
  },
  {
   "cell_type": "code",
   "execution_count": 24,
   "metadata": {},
   "outputs": [
    {
     "data": {
      "image/png": "[encoded data removed]",
      "text/plain": [
       "<matplotlib.figure.Figure at 0x10fba1da0>"
      ]
     },
     "metadata": {},
     "output_type": "display_data"
    }
   ],
   "source": [
    "# A:\n",
    "df = data[['is_news', 'label']]\n",
    "\n",
    "df.corr()\n",
    "\n",
    "sns.stripplot(x=\"is_news\", y=\"label\", data=df, jitter=True);"
   ]
  },
  {
   "cell_type": "markdown",
   "metadata": {},
   "source": [
    "**3.B) Test the hypothesis with a logistic regression using statsmodels.**\n",
    "\n",
    "> **Hint:** The `sm.logit` function from `statsmodels.formula.api` will perform a logistic regression using a formula string.  If you want to stick with `sklearn`, you may change the import below to use `sklearn`."
   ]
  },
  {
   "cell_type": "code",
   "execution_count": 25,
   "metadata": {
    "collapsed": true
   },
   "outputs": [],
   "source": [
    "from sklearn.linear_model import LogisticRegression"
   ]
  },
  {
   "cell_type": "code",
   "execution_count": 36,
   "metadata": {},
   "outputs": [
    {
     "name": "stdout",
     "output_type": "stream",
     "text": [
      "Coefficient:     [[ 0.03739369]]\n",
      "Intercept:       [ 0.03026172]\n",
      "Predicted probabilities:    [[ 0.48309259  0.51690741]]\n"
     ]
    }
   ],
   "source": [
    "# A:\n",
    "X = df['is_news'].values.reshape(-1, 1)\n",
    "y= df['label'].values\n",
    "lr = LogisticRegression()\n",
    "model = lr.fit(X, y)\n",
    "print('Coefficient:    ', model.coef_)\n",
    "print('Intercept:      ', model.intercept_)\n",
    "print('Predicted probabilities:   ', model.predict_proba(1))"
   ]
  },
  {
   "cell_type": "markdown",
   "metadata": {},
   "source": [
    "**3.C) Interpret the results of your model.**"
   ]
  },
  {
   "cell_type": "code",
   "execution_count": 8,
   "metadata": {
    "collapsed": true
   },
   "outputs": [],
   "source": [
    "# A:If the website is a news website, the probabiltiy that it is rated as green is ~52%. "
   ]
  },
  {
   "cell_type": "markdown",
   "metadata": {},
   "source": [
    "### 4) Does the website category affect greenness?\n",
    "\n",
    "**4.A) Investigate with plots/EDA.**"
   ]
  },
  {
   "cell_type": "code",
   "execution_count": 67,
   "metadata": {},
   "outputs": [
    {
     "name": "stderr",
     "output_type": "stream",
     "text": [
      "/Users/slevin886/anaconda2/envs/python3/lib/python3.6/site-packages/ipykernel_launcher.py:6: UserWarning: Boolean Series key will be reindexed to match DataFrame index.\n",
      "  \n"
     ]
    },
    {
     "data": {
      "text/plain": [
       "<matplotlib.axes._subplots.AxesSubplot at 0x110b81fd0>"
      ]
     },
     "execution_count": 67,
     "metadata": {},
     "output_type": "execute_result"
    },
    {
     "data": {
      "image/png": "[encoded data removed]",
      "text/plain": [
       "<matplotlib.figure.Figure at 0x110fc7cf8>"
      ]
     },
     "metadata": {},
     "output_type": "display_data"
    }
   ],
   "source": [
    "# A:\n",
    "new_df = data[['alchemy_category', 'label']]\n",
    "mask = data['alchemy_category'] == '?'\n",
    "new_df = new_df.drop(new_df[mask].index).reset_index(drop=True)\n",
    "mask2 = data['alchemy_category'] == 'unknown'\n",
    "new_df = new_df.drop(new_df[mask2].index).reset_index(drop=True)\n",
    "for_bars = new_df.groupby('alchemy_category')['label'].mean()\n",
    "for_bars.plot(kind='bar')"
   ]
  },
  {
   "cell_type": "markdown",
   "metadata": {},
   "source": [
    "**4.B) Test the hypothesis with a logistic regression.**"
   ]
  },
  {
   "cell_type": "code",
   "execution_count": 76,
   "metadata": {},
   "outputs": [
    {
     "name": "stdout",
     "output_type": "stream",
     "text": [
      "Coefficient:     [[-0.21685595  1.20141681 -0.79181516  0.13495519 -0.22050795  0.59239828\n",
      "  -0.01724202  1.07695578 -0.02876027  0.13077284 -1.03112329 -0.22368229\n",
      "  -0.91255217]]\n",
      "Intercept:       [-0.3060402]\n",
      "Predicted probabilities:    [[ 0.29000153  0.70999847]\n",
      " [ 0.31628108  0.68371892]\n",
      " [ 0.4288957   0.5711043 ]\n",
      " ..., \n",
      " [ 0.54266723  0.45733277]\n",
      " [ 0.31628108  0.68371892]\n",
      " [ 0.62782474  0.37217526]]\n"
     ]
    }
   ],
   "source": [
    "# A:\n",
    "y = new_df['label'].values\n",
    "X = pd.get_dummies(new_df['alchemy_category'])\n",
    "lr = LogisticRegression()\n",
    "model = lr.fit(X.values, y)\n",
    "print('Coefficient:    ', model.coef_)\n",
    "print('Intercept:      ', model.intercept_)\n",
    "print('Predicted probabilities:   ',model.predict_proba(X.values))\n"
   ]
  },
  {
   "cell_type": "markdown",
   "metadata": {},
   "source": [
    "**4.C Interpret the model results.**"
   ]
  },
  {
   "cell_type": "code",
   "execution_count": 11,
   "metadata": {
    "collapsed": true
   },
   "outputs": [],
   "source": [
    "# A: Yes- there are different probabilities associated with different website categories."
   ]
  },
  {
   "cell_type": "markdown",
   "metadata": {},
   "source": [
    "### 5) Does the image ratio affect greenness?\n",
    "\n",
    "**5.A) Investigate with plots/EDA.**"
   ]
  },
  {
   "cell_type": "code",
   "execution_count": 80,
   "metadata": {},
   "outputs": [],
   "source": [
    "# A:\n",
    "df3 = data[['label', 'image_ratio']]\n",
    "mask = df3['image_ratio'] < 0\n",
    "df3 = df3.drop(df3[mask].index)\n"
   ]
  },
  {
   "cell_type": "code",
   "execution_count": 89,
   "metadata": {},
   "outputs": [],
   "source": [
    "mask2 = df3['image_ratio'] > 20\n",
    "df3 = df3.drop(df3[mask2].index)"
   ]
  },
  {
   "cell_type": "code",
   "execution_count": 90,
   "metadata": {},
   "outputs": [
    {
     "data": {
      "text/plain": [
       "<matplotlib.axes._subplots.AxesSubplot at 0x110d1bbe0>"
      ]
     },
     "execution_count": 90,
     "metadata": {},
     "output_type": "execute_result"
    },
    {
     "data": {
      "image/png": "[encoded data removed]",
      "text/plain": [
       "<matplotlib.figure.Figure at 0x10fe5efd0>"
      ]
     },
     "metadata": {},
     "output_type": "display_data"
    }
   ],
   "source": [
    "df3.plot(kind='scatter', x='image_ratio', y='label')"
   ]
  },
  {
   "cell_type": "code",
   "execution_count": 92,
   "metadata": {},
   "outputs": [],
   "source": [
    "df3['image_ratio'] = (df3['image_ratio'] - df3['image_ratio'].mean()) / df3['image_ratio'].std()"
   ]
  },
  {
   "cell_type": "markdown",
   "metadata": {},
   "source": [
    "**5.B) Test the hypothesis using a logistic regression.**\n",
    "\n",
    "> **Note**: It's worth thinking about how to best represent this variable. It may not be wise to input the image ratio as is."
   ]
  },
  {
   "cell_type": "code",
   "execution_count": 100,
   "metadata": {},
   "outputs": [
    {
     "name": "stdout",
     "output_type": "stream",
     "text": [
      "Coefficient:     [[-0.119104]]\n",
      "Intercept:       [ 0.0894928]\n",
      "Predicted probabilities:    [[ 0.46727954  0.53272046]\n",
      " [ 0.46972338  0.53027662]\n",
      " [ 0.47064293  0.52935707]\n",
      " ..., \n",
      " [ 0.47368494  0.52631506]\n",
      " [ 0.48056853  0.51943147]\n",
      " [ 0.49806847  0.50193153]]\n"
     ]
    }
   ],
   "source": [
    "# A:\n",
    "y = df3['label'].values\n",
    "X = df3['image_ratio'].values.reshape(-1, 1)\n",
    "lr = LogisticRegression()\n",
    "model = lr.fit(X, y)\n",
    "print('Coefficient:    ', model.coef_)\n",
    "print('Intercept:      ', model.intercept_)\n",
    "print('Predicted probabilities:   ',model.predict_proba(X))\n"
   ]
  },
  {
   "cell_type": "markdown",
   "metadata": {},
   "source": [
    "**5.C) Interpret the model.**"
   ]
  },
  {
   "cell_type": "code",
   "execution_count": 14,
   "metadata": {
    "collapsed": true
   },
   "outputs": [],
   "source": [
    "# A:The negative coefficnet tells us that as the ratio of images increases the probability \n",
    "# that the site is rated green decreases (at least according to our sample data)"
   ]
  },
  {
   "cell_type": "markdown",
   "metadata": {},
   "source": [
    "### 6) Fit a logistic regression with multiple predictors.\n",
    "- The choice of predictors is up to you. Test features you think may be valuable to predicting evergreen status.\n",
    "- Perform any EDA you may need.\n",
    "- Interpret the coefficients of the model.\n",
    "\n",
    "> **Tip:** [This PDF](https://www.unm.edu/~schrader/biostat/bio2/Spr06/lec11.pdf) is useful for gaining an overview of interpreting logistic regression coefficients."
   ]
  },
  {
   "cell_type": "code",
   "execution_count": 15,
   "metadata": {
    "collapsed": true
   },
   "outputs": [],
   "source": [
    "# A:"
   ]
  }
 ],
 "metadata": {
  "anaconda-cloud": {},
  "kernelspec": {
   "display_name": "Python 3",
   "language": "python",
   "name": "python3"
  },
  "language_info": {
   "codemirror_mode": {
    "name": "ipython",
    "version": 3
   },
   "file_extension": ".py",
   "mimetype": "text/x-python",
   "name": "python",
   "nbconvert_exporter": "python",
   "pygments_lexer": "ipython3",
   "version": "3.6.3"
  }
 },
 "nbformat": 4,
 "nbformat_minor": 1
}
