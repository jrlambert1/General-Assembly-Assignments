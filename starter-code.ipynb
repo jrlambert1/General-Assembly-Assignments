{
 "cells": [
  {
   "cell_type": "markdown",
   "metadata": {},
   "source": [
    "# 2.03 Distributions Lab\n",
    "\n",
    "**NOTE**: Double-click on the cells that say \"Type _Markdown_ and LaTeX: $\\alpha^2$\" to open a Markdown cell in which you can enter text without needing to put comments in code cells!"
   ]
  },
  {
   "cell_type": "markdown",
   "metadata": {},
   "source": [
    "#### 1. Define distribution."
   ]
  },
  {
   "cell_type": "markdown",
   "metadata": {},
   "source": []
  },
  {
   "cell_type": "markdown",
   "metadata": {},
   "source": [
    "The relative number of times each possible outcome will occur given a particular number of 'trials'"
   ]
  },
  {
   "cell_type": "markdown",
   "metadata": {},
   "source": [
    "#### 2. When summarizing the distribution of a variable, what are the three aspects of distributions we want to make sure we summarize?"
   ]
  },
  {
   "cell_type": "markdown",
   "metadata": {},
   "source": [
    "Mean, standard deviation, number of observations"
   ]
  },
  {
   "cell_type": "markdown",
   "metadata": {},
   "source": [
    "#### 3. What is a Bernoulli random variable?"
   ]
  },
  {
   "cell_type": "markdown",
   "metadata": {},
   "source": [
    "A variable that takes 1 with probability 'p' and 0 with probability '1 - p' for a single event. It is like a boolean. "
   ]
  },
  {
   "cell_type": "markdown",
   "metadata": {},
   "source": [
    "#### 4. What is the relationship between the Bernoulli and Binomial distributions?"
   ]
  },
  {
   "cell_type": "markdown",
   "metadata": {},
   "source": [
    "The bernouli distribution is a special case of the binomial distribution where only 1 trial is conducted (or alternatively, an infinite amount of trials occur that converge at the 'true' probability of occurrence/success). A binomial distribution is the discrete probability distribution of the # of successful trials out of 'n' trials. (i.e. what is the likelihood of 0 successful trials out of 20 trials, 1 out of 20, 2 out of 20, etc. etc.) "
   ]
  },
  {
   "cell_type": "markdown",
   "metadata": {},
   "source": [
    "#### 5. What is the relationship between the Binomial and Poisson distributions?"
   ]
  },
  {
   "cell_type": "markdown",
   "metadata": {},
   "source": [
    "The Poisson distribution is like a binomial distribution, in that it is a discrete probability distribution for each possible outcome, but taking into account a fixed time interval. "
   ]
  },
  {
   "cell_type": "markdown",
   "metadata": {},
   "source": [
    "#### 6. What is the relationship between the Exponential and Geometric distributions?"
   ]
  },
  {
   "cell_type": "markdown",
   "metadata": {},
   "source": [
    "Where the Geometric distribution measures the number of trials until a success, the Exponential distribution measures the time until a success."
   ]
  },
  {
   "cell_type": "markdown",
   "metadata": {},
   "source": [
    "#### 7. Let's walk through the Central Limit Theorem.\n",
    "\n",
    "a) Let's create a population of 10,000 observations from a Normal distribution with mean 500 and standard deviation 100. Save this as `population`. Before this step, however, set your seed to 45 using using `random.seed(45)`."
   ]
  },
  {
   "cell_type": "code",
   "execution_count": 5,
   "metadata": {},
   "outputs": [],
   "source": [
    "import numpy as np\n",
    "np.random.seed(45)\n",
    "population = list(np.random.normal(500, 100, 10000))"
   ]
  },
  {
   "cell_type": "markdown",
   "metadata": {},
   "source": [
    "b) Generate 1,000 random samples of size 5 from `population`. Calculate the mean of each of these samples (so you should have 1,000 means) and put them in a list `norm_samples_5`."
   ]
  },
  {
   "cell_type": "code",
   "execution_count": 9,
   "metadata": {},
   "outputs": [],
   "source": [
    "import random \n",
    "def sampler(lst, size):\n",
    "    empty = []\n",
    "    for num in range(1000):\n",
    "        p = np.mean(random.sample(lst, size))\n",
    "        empty.append(p)\n",
    "    return empty\n",
    "\n",
    "norm_samples_5 = sampler(population, 5)"
   ]
  },
  {
   "cell_type": "markdown",
   "metadata": {},
   "source": [
    "We simulated the sampling distribution of $\\bar{X}$ when we took the mean of 1,000 samples from the population. This isn't exactly what the sampling distribution of $\\bar{X}$ is, but it's close enough for our purposes! \n",
    "\n",
    "(In general, we'd actually take every possible sample of size 5 from our population, but that can get really complicated.)"
   ]
  },
  {
   "cell_type": "markdown",
   "metadata": {},
   "source": [
    "c) Plot `norm_samples_5` **with** a kernel density estimate using `seaborn.distplot`."
   ]
  },
  {
   "cell_type": "code",
   "execution_count": 11,
   "metadata": {},
   "outputs": [
    {
     "data": {
      "text/plain": [
       "<matplotlib.axes._subplots.AxesSubplot at 0x1155dccc0>"
      ]
     },
     "execution_count": 11,
     "metadata": {},
     "output_type": "execute_result"
    },
    {
     "data": {
      "image/png": "[encoded data removed]",
      "text/plain": [
       "<matplotlib.figure.Figure at 0x115185940>"
      ]
     },
     "metadata": {},
     "output_type": "display_data"
    }
   ],
   "source": [
    "import seaborn as sns\n",
    "%matplotlib inline\n",
    "sns.distplot(norm_samples_5, bins=30, kde=True)"
   ]
  },
  {
   "cell_type": "markdown",
   "metadata": {},
   "source": [
    "d) How would you describe the shape of the distribution from c)?"
   ]
  },
  {
   "cell_type": "markdown",
   "metadata": {},
   "source": [
    "It looks a lot like a bell curve. "
   ]
  },
  {
   "cell_type": "markdown",
   "metadata": {},
   "source": [
    "e) Generate 1,000 random samples of size 50 from `population`. Calculate the mean of each of these samples (so you should have 1,000 means) and put them in a list `norm_samples_50`."
   ]
  },
  {
   "cell_type": "code",
   "execution_count": 12,
   "metadata": {
    "collapsed": true
   },
   "outputs": [],
   "source": [
    "norm_samples_50 = sampler(population, 50)"
   ]
  },
  {
   "cell_type": "markdown",
   "metadata": {},
   "source": [
    "f) Plot `norm_samples_50` **with** a kernel density estimate using `seaborn.distplot`."
   ]
  },
  {
   "cell_type": "code",
   "execution_count": 13,
   "metadata": {},
   "outputs": [
    {
     "data": {
      "text/plain": [
       "<matplotlib.axes._subplots.AxesSubplot at 0x1155f1358>"
      ]
     },
     "execution_count": 13,
     "metadata": {},
     "output_type": "execute_result"
    },
    {
     "data": {
      "image/png": "[encoded data removed]",
      "text/plain": [
       "<matplotlib.figure.Figure at 0x1155fa898>"
      ]
     },
     "metadata": {},
     "output_type": "display_data"
    }
   ],
   "source": [
    "sns.distplot(norm_samples_50, bins=30, kde=True)"
   ]
  },
  {
   "cell_type": "markdown",
   "metadata": {},
   "source": [
    "g) How would you describe the shape of the distribution from f), relative to the distribution you generated for part c)?"
   ]
  },
  {
   "cell_type": "markdown",
   "metadata": {},
   "source": [
    "It is a slightly better bell curve. "
   ]
  },
  {
   "cell_type": "markdown",
   "metadata": {},
   "source": [
    "h) Run this command:\n",
    "\n",
    "```python\n",
    "random.seed(46)\n",
    "population_2 = [np.random.choice([np.random.poisson(2),np.random.poisson(10),np.random.exponential(5)]) for i in range(10000)]\n",
    "\n",
    "```"
   ]
  },
  {
   "cell_type": "code",
   "execution_count": 34,
   "metadata": {},
   "outputs": [
    {
     "data": {
      "text/plain": [
       "[2.0,\n",
       " 3.4693769045449696,\n",
       " 1.6974349455675917,\n",
       " 13.720560200908192,\n",
       " 7.5726304070141559]"
      ]
     },
     "execution_count": 34,
     "metadata": {},
     "output_type": "execute_result"
    }
   ],
   "source": [
    "random.seed(46)\n",
    "population_2 = [np.random.choice([np.random.poisson(2),np.random.poisson(10),np.random.exponential(5)]) for i in range(10000)]"
   ]
  },
  {
   "cell_type": "markdown",
   "metadata": {},
   "source": [
    "i) What is the command in h) doing?"
   ]
  },
  {
   "cell_type": "markdown",
   "metadata": {},
   "source": [
    "It is randomly choosing a number (either from two poisson distributions with means 2 and 10 or an exponential distribution with mean 5) 10,000 times and recording this numbers in a list."
   ]
  },
  {
   "cell_type": "markdown",
   "metadata": {},
   "source": [
    "j) Is the population created in `population_2` Normally distributed? How do you know?"
   ]
  },
  {
   "cell_type": "code",
   "execution_count": 35,
   "metadata": {},
   "outputs": [
    {
     "data": {
      "text/plain": [
       "<matplotlib.axes._subplots.AxesSubplot at 0x1a1bc4bb00>"
      ]
     },
     "execution_count": 35,
     "metadata": {},
     "output_type": "execute_result"
    },
    {
     "data": {
      "image/png": "[encoded data removed]",
      "text/plain": [
       "<matplotlib.figure.Figure at 0x1a1bbf8e80>"
      ]
     },
     "metadata": {},
     "output_type": "display_data"
    }
   ],
   "source": [
    "sns.distplot(population_2, bins=30, kde=True)"
   ]
  },
  {
   "cell_type": "markdown",
   "metadata": {},
   "source": [
    "It isn't normally distributed. Firstly it is drawing from 'samples' with different means and you can also just look at a distribution plot (like above) to see that it is skewed. "
   ]
  },
  {
   "cell_type": "markdown",
   "metadata": {},
   "source": [
    "k) Generate 1,000 random samples of size 5 from `population_2`. Calculate the mean of each of these samples (so you should have 1,000 means) and put them in a list `poiexp_samples_5`."
   ]
  },
  {
   "cell_type": "code",
   "execution_count": 36,
   "metadata": {
    "collapsed": true
   },
   "outputs": [],
   "source": [
    "poiexp_samples_5 = sampler(population_2, 5)"
   ]
  },
  {
   "cell_type": "markdown",
   "metadata": {},
   "source": [
    "l) Plot `poiexp_samples_5` **with** a kernel density estimate using `seaborn.distplot`."
   ]
  },
  {
   "cell_type": "code",
   "execution_count": 37,
   "metadata": {},
   "outputs": [
    {
     "data": {
      "text/plain": [
       "<matplotlib.axes._subplots.AxesSubplot at 0x10d6edf28>"
      ]
     },
     "execution_count": 37,
     "metadata": {},
     "output_type": "execute_result"
    },
    {
     "data": {
      "image/png": "[encoded data removed]",
      "text/plain": [
       "<matplotlib.figure.Figure at 0x1a1bd9d908>"
      ]
     },
     "metadata": {},
     "output_type": "display_data"
    }
   ],
   "source": [
    "sns.distplot(poiexp_samples_5, bins=30, kde=True)"
   ]
  },
  {
   "cell_type": "markdown",
   "metadata": {},
   "source": [
    "m) How would you describe the shape of the distribution from l)?"
   ]
  },
  {
   "cell_type": "markdown",
   "metadata": {},
   "source": [
    "Approaching normality. "
   ]
  },
  {
   "cell_type": "markdown",
   "metadata": {},
   "source": [
    "n) Generate 1,000 random samples of size 50 from `population_2`. Calculate the mean of each of these samples (so you should have 1,000 means) and put them in a list `poiexp_samples_50`."
   ]
  },
  {
   "cell_type": "code",
   "execution_count": 38,
   "metadata": {
    "collapsed": true
   },
   "outputs": [],
   "source": [
    "poiexp_samples_50 = sampler(population_2, 50)"
   ]
  },
  {
   "cell_type": "markdown",
   "metadata": {},
   "source": [
    "o) Plot `poiexp_samples_50` with a kernel density estimate using seaborn.distplot."
   ]
  },
  {
   "cell_type": "code",
   "execution_count": 39,
   "metadata": {},
   "outputs": [
    {
     "data": {
      "text/plain": [
       "<matplotlib.axes._subplots.AxesSubplot at 0x1a1bd4e390>"
      ]
     },
     "execution_count": 39,
     "metadata": {},
     "output_type": "execute_result"
    },
    {
     "data": {
      "image/png": "[encoded data removed]",
      "text/plain": [
       "<matplotlib.figure.Figure at 0x1a1bd4ed68>"
      ]
     },
     "metadata": {},
     "output_type": "display_data"
    }
   ],
   "source": [
    "sns.distplot(poiexp_samples_50, bins=30, kde=True)"
   ]
  },
  {
   "cell_type": "markdown",
   "metadata": {},
   "source": [
    "p) How would you describe the shape of the distribution from o)?"
   ]
  },
  {
   "cell_type": "markdown",
   "metadata": {},
   "source": [
    "It is slightly better than the 5 sample, the distribution is more closely distributed around the mean. "
   ]
  },
  {
   "cell_type": "markdown",
   "metadata": {},
   "source": [
    "**You just observed the Central Limit Theorem. Let's make this a bit more explicit.**\n",
    "\n",
    "q) When our original data came from a Normal distribution (`population`) and we looked at the sampling distribution of $\\bar{X}$ for $n=5$ (`norm_samples_5`), what was the shape of the sampling distribution of $\\bar{X}$?"
   ]
  },
  {
   "cell_type": "markdown",
   "metadata": {},
   "source": [
    "Close to bell curve, drawn from normal distribution, so as it should be. "
   ]
  },
  {
   "cell_type": "markdown",
   "metadata": {},
   "source": [
    "r) When our original data came from a Normal distribution (`population`) and we looked at the sampling distribution of $\\bar{X}$ for $n=50$ (`norm_samples_50`), what was the shape of the sampling distribution of $\\bar{X}$?"
   ]
  },
  {
   "cell_type": "markdown",
   "metadata": {},
   "source": [
    "Even closer to perfect bell curve, each individual sample more likely to approach mean with less room for fluctuation. "
   ]
  },
  {
   "cell_type": "markdown",
   "metadata": {},
   "source": [
    "s) So, if our original population is a Normal distribution, what will the sampling distribution be shaped like - regardless of sample size?"
   ]
  },
  {
   "cell_type": "markdown",
   "metadata": {},
   "source": [
    "Like a bell curve"
   ]
  },
  {
   "cell_type": "markdown",
   "metadata": {},
   "source": [
    "t) When our original data came from a non-Normal distribution (`population_2`) and we looked at the sampling distribution of $\\bar{X}$ for $n=5$ (`poiexp_samples_5`), what was the shape of the sampling distribution of $\\bar{X}$?"
   ]
  },
  {
   "cell_type": "markdown",
   "metadata": {},
   "source": [
    "Approaching bell curve w/ small positive skew."
   ]
  },
  {
   "cell_type": "markdown",
   "metadata": {},
   "source": [
    "u) When our original data came from a non-Normal distribution (`population_2`) and we looked at the sampling distribution of $\\bar{X}$ for $n=50$ (`poiexp_samples_50`), what was the shape of the sampling distribution of $\\bar{X}$?"
   ]
  },
  {
   "cell_type": "markdown",
   "metadata": {},
   "source": [
    "Very close to bell curve. "
   ]
  },
  {
   "cell_type": "markdown",
   "metadata": {},
   "source": [
    "v) So, if our original population is not a Normal distribution, what will the sampling distribution be shaped like when $n$ is small (like 5)?"
   ]
  },
  {
   "cell_type": "markdown",
   "metadata": {},
   "source": [
    "Close to bell curve, but slight problems."
   ]
  },
  {
   "cell_type": "markdown",
   "metadata": {},
   "source": [
    "w) So, if our original population is not a Normal distribution, what will the sampling distribution be shaped like when $n$ is large (like 50)?"
   ]
  },
  {
   "cell_type": "markdown",
   "metadata": {},
   "source": [
    "Very close to bell curve."
   ]
  },
  {
   "cell_type": "markdown",
   "metadata": {},
   "source": [
    "x) When you sample from a non-Normal distribution, what happens to our sampling distribution of $\\bar{X}$ as we increase $n$?"
   ]
  },
  {
   "cell_type": "markdown",
   "metadata": {},
   "source": [
    "It moves closer to normal/bell curve."
   ]
  },
  {
   "cell_type": "markdown",
   "metadata": {},
   "source": [
    "BONUS: If you're so inclined, repeat steps k and l for sample size $n=10, 20, 30, 50, 100$ to look at this phenomenon more closely! You could write a loop to do this."
   ]
  },
  {
   "cell_type": "code",
   "execution_count": 49,
   "metadata": {},
   "outputs": [
    {
     "data": {
      "image/png": "[encoded data removed]",
      "text/plain": [
       "<matplotlib.figure.Figure at 0x1a1ca7b358>"
      ]
     },
     "metadata": {},
     "output_type": "display_data"
    }
   ],
   "source": [
    "import matplotlib.pyplot as plt\n",
    "sample_n = [10, 20, 30, 50, 100]\n",
    "for x in sample_n:\n",
    "    poiexp_samples_end = sampler(population_2, x)\n",
    "    sns.distplot(poiexp_samples_end, bins=30, kde=True)"
   ]
  }
 ],
 "metadata": {
  "kernelspec": {
   "display_name": "Python 3",
   "language": "python",
   "name": "python3"
  },
  "language_info": {
   "codemirror_mode": {
    "name": "ipython",
    "version": 3
   },
   "file_extension": ".py",
   "mimetype": "text/x-python",
   "name": "python",
   "nbconvert_exporter": "python",
   "pygments_lexer": "ipython3",
   "version": "3.6.3"
  }
 },
 "nbformat": 4,
 "nbformat_minor": 2
}
