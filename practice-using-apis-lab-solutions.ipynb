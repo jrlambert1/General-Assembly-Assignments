{
 "cells": [
  {
   "cell_type": "markdown",
   "metadata": {},
   "source": [
    "<img src=\"http://imgur.com/1ZcRyrc.png\" style=\"float: left; margin: 20px; height: 55px\">\n",
    "\n",
    "# Practice Using APIs\n",
    "\n",
    "_Authors: Dave Yerrington (SF), Sam Stack (DC)_\n",
    "\n",
    "---\n",
    "\n",
    "In this lab, we'll practice using some popular APIs to retrieve and store data."
   ]
  },
  {
   "cell_type": "code",
   "execution_count": 1,
   "metadata": {
    "collapsed": true
   },
   "outputs": [],
   "source": [
    "# Imports at the top.\n",
    "import json\n",
    "import urllib\n",
    "import pandas as pd\n",
    "import numpy as np\n",
    "import requests\n",
    "import json\n",
    "import re\n",
    "import matplotlib.pyplot as plt\n",
    "%matplotlib inline"
   ]
  },
  {
   "cell_type": "markdown",
   "metadata": {},
   "source": [
    "## Exercise 2: IMDb TV Shows\n",
    "\n",
    "---\n",
    "\n",
    "Sometimes an API doesn't provide all of the information we'd like and we need to get creative.\n",
    "\n",
    "Here we'll use a combination of scraping and API calls to find the ratings and networks of famous television shows."
   ]
  },
  {
   "cell_type": "markdown",
   "metadata": {
    "collapsed": true
   },
   "source": [
    "### 3.A Get the Top TV Shows\n",
    "\n",
    "IMDb contains data about movies and TV shows. Unfortunately, it doesn't have a public API.\n",
    "\n",
    "The page http://www.imdb.com/chart/toptv/?ref_=nv_tp_tv250_2 contains the list of the top 250 television shows of all time. Retrieve the page using the `requests` library and then parse the HTML to obtain a list of the `television_ids` for these shows. You can parse it with regular expression or by using a library like `BeautifulSoup`.\n",
    "\n",
    "> **Hint:** television_ids look like this: `tt2582802`.\n",
    "> _Everything after \"/title/\" and before \"/?\"_"
   ]
  },
  {
   "cell_type": "code",
   "execution_count": 13,
   "metadata": {
    "collapsed": true
   },
   "outputs": [],
   "source": [
    "response = requests.get('http://www.imdb.com/chart/toptv/?ref_=nv_tp_tv250_2')"
   ]
  },
  {
   "cell_type": "code",
   "execution_count": 14,
   "metadata": {
    "collapsed": true
   },
   "outputs": [],
   "source": [
    "def get_top_250():\n",
    "    response = requests.get('http://www.imdb.com/chart/toptv/?ref_=nv_tp_tv250_2')\n",
    "    html = response.text\n",
    "    # Use the greedy version to find everything after title to the next backslash in the a href element.\n",
    "    entries = re.findall(\"<a href.*?/title/(.*?)/\", html) \n",
    "    # Create a list of the top 250 results.\n",
    "    return list(set(entries))"
   ]
  },
  {
   "cell_type": "code",
   "execution_count": 15,
   "metadata": {
    "collapsed": true
   },
   "outputs": [],
   "source": [
    "entries = get_top_250()"
   ]
  },
  {
   "cell_type": "code",
   "execution_count": 16,
   "metadata": {},
   "outputs": [
    {
     "data": {
      "text/plain": [
       "251"
      ]
     },
     "execution_count": 16,
     "metadata": {},
     "output_type": "execute_result"
    }
   ],
   "source": [
    "len(entries)"
   ]
  },
  {
   "cell_type": "code",
   "execution_count": 17,
   "metadata": {},
   "outputs": [
    {
     "data": {
      "text/plain": [
       "'tt1227926'"
      ]
     },
     "execution_count": 17,
     "metadata": {},
     "output_type": "execute_result"
    }
   ],
   "source": [
    "entries[0]"
   ]
  },
  {
   "cell_type": "markdown",
   "metadata": {},
   "source": [
    "### 3.B Get Data on the Top TV Shows\n",
    "\n",
    "Although IMBb doesn't have a public API, an open API exists at http://www.tvmaze.com/api.\n",
    "\n",
    "Use this API to retrieve information about each of the 250 TV shows you extracted in the previous step.\n",
    "1) Check the documentation of TVmaze's API to learn how to request show data by ID.\n",
    "- Define a function that returns a Python object with select information for a given ID.\n",
    "    - Show name.\n",
    "    - Rating (avg).\n",
    "    - Genre(s).\n",
    "    - Network name.\n",
    "    - Premiere date.\n",
    "    - Status.\n",
    "> Tip: The JSON object can easily be converted into a Python dictionary.\n",
    "\n",
    "- Store the gathered information in a Pandas DataFrame.\n",
    "\n",
    "Because the target information is in a JSON format, you'll need `json.loads(res.text)` in order to gather it."
   ]
  },
  {
   "cell_type": "markdown",
   "metadata": {},
   "source": [
    "Here's an example of the information and how we can interact with it:"
   ]
  },
  {
   "cell_type": "code",
   "execution_count": 18,
   "metadata": {},
   "outputs": [
    {
     "name": "stdout",
     "output_type": "stream",
     "text": [
      "200\n",
      "Game of Thrones\n",
      "{'id': 82, 'url': 'http://www.tvmaze.com/shows/82/game-of-thrones', 'name': 'Game of Thrones', 'type': 'Scripted', 'language': 'English', 'genres': ['Drama', 'Adventure', 'Fantasy'], 'status': 'Running', 'runtime': 60, 'premiered': '2011-04-17', 'officialSite': 'http://www.hbo.com/game-of-thrones', 'schedule': {'time': '21:00', 'days': ['Sunday']}, 'rating': {'average': 9.3}, 'weight': 99, 'network': {'id': 8, 'name': 'HBO', 'country': {'name': 'United States', 'code': 'US', 'timezone': 'America/New_York'}}, 'webChannel': {'id': 22, 'name': 'HBO Go', 'country': {'name': 'United States', 'code': 'US', 'timezone': 'America/New_York'}}, 'externals': {'tvrage': 24493, 'thetvdb': 121361, 'imdb': 'tt0944947'}, 'image': {'medium': 'http://static.tvmaze.com/uploads/images/medium_portrait/143/359013.jpg', 'original': 'http://static.tvmaze.com/uploads/images/original_untouched/143/359013.jpg'}, 'summary': '<p>Based on the bestselling book series <i>A Song of Ice and Fire</i> by George R.R. Martin, this sprawling new HBO drama is set in a world where summers span decades and winters can last a lifetime. From the scheming south and the savage eastern lands, to the frozen north and ancient Wall that protects the realm from the mysterious darkness beyond, the powerful families of the Seven Kingdoms are locked in a battle for the Iron Throne. This is a story of duplicity and treachery, nobility and honor, conquest and triumph. In the <b>Game of Thrones</b>, you either win or you die.</p>', 'updated': 1517168016, '_links': {'self': {'href': 'http://api.tvmaze.com/shows/82'}, 'previousepisode': {'href': 'http://api.tvmaze.com/episodes/1221415'}}}\n"
     ]
    }
   ],
   "source": [
    "# Example URL.\n",
    "res=requests.get('http://api.tvmaze.com/lookup/shows?imdb=tt0944947')\n",
    "\n",
    "# Status code.\n",
    "print(res.status_code)\n",
    "\n",
    "# Just the contents of the name element.\n",
    "print(json.loads(res.text).get('name'))\n",
    "\n",
    "# The entire contents.\n",
    "print(json.loads(res.text))"
   ]
  },
  {
   "cell_type": "code",
   "execution_count": 20,
   "metadata": {
    "collapsed": true
   },
   "outputs": [],
   "source": [
    "# Function to pull information from the API converting JSON into a Python dictionary element.\n",
    "def get_entry(entry):\n",
    "    res=requests.get('http://api.tvmaze.com/lookup/shows?imdb='+entry)\n",
    "    if res.status_code == 200:\n",
    "        results = json.loads(res.text)\n",
    "        \n",
    "        try:    \n",
    "            status = results['status']\n",
    "        except TypeError:\n",
    "            status = 'NA'   \n",
    "        try:\n",
    "            rating = results['rating']['average']\n",
    "        except TypeError:\n",
    "            rating = 'NA'\n",
    "        try:\n",
    "            network = results['network']['name']\n",
    "        except TypeError:\n",
    "            network = 'NA'\n",
    "        try:   \n",
    "            title = results['name']\n",
    "        except TypeError:\n",
    "            title = 'NA'\n",
    "        try:   \n",
    "            genres = results['genres']\n",
    "        except TypeError:\n",
    "            genres = 'NA'\n",
    "        try:   \n",
    "            premier = results['premiered']\n",
    "        except TypeError:\n",
    "            premier = 'NA'\n",
    "        shows_df.loc[len(shows_df)] = [title, rating, genres, network, premier, status]"
   ]
  },
  {
   "cell_type": "code",
   "execution_count": 21,
   "metadata": {
    "collapsed": true
   },
   "outputs": [],
   "source": [
    "# In both functions, we're looking for specific elements. If an element is missing, an error will return — thus the need\n",
    "# for try and except statements."
   ]
  },
  {
   "cell_type": "code",
   "execution_count": 22,
   "metadata": {},
   "outputs": [],
   "source": [
    "shows_df= pd.DataFrame( columns = ['show_name', 'rating_avg', 'genres', 'network', 'premiere_date', 'status'])\n",
    "\n",
    "for entry in entries:\n",
    "    get_entry(entry)"
   ]
  },
  {
   "cell_type": "code",
   "execution_count": 23,
   "metadata": {},
   "outputs": [
    {
     "data": {
      "text/html": [
       "<div>\n",
       "<style>\n",
       "    .dataframe thead tr:only-child th {\n",
       "        text-align: right;\n",
       "    }\n",
       "\n",
       "    .dataframe thead th {\n",
       "        text-align: left;\n",
       "    }\n",
       "\n",
       "    .dataframe tbody tr th {\n",
       "        vertical-align: top;\n",
       "    }\n",
       "</style>\n",
       "<table border=\"1\" class=\"dataframe\">\n",
       "  <thead>\n",
       "    <tr style=\"text-align: right;\">\n",
       "      <th></th>\n",
       "      <th>show_name</th>\n",
       "      <th>rating_avg</th>\n",
       "      <th>genres</th>\n",
       "      <th>network</th>\n",
       "      <th>premiere_date</th>\n",
       "      <th>status</th>\n",
       "    </tr>\n",
       "  </thead>\n",
       "  <tbody>\n",
       "    <tr>\n",
       "      <th>0</th>\n",
       "      <td>Dr. Horrible's Sing-Along Blog</td>\n",
       "      <td>8.7</td>\n",
       "      <td>[Comedy, Music, Science-Fiction]</td>\n",
       "      <td>NA</td>\n",
       "      <td>2008-07-15</td>\n",
       "      <td>Ended</td>\n",
       "    </tr>\n",
       "    <tr>\n",
       "      <th>1</th>\n",
       "      <td>Chef's Table</td>\n",
       "      <td>8.8</td>\n",
       "      <td>[Food]</td>\n",
       "      <td>NA</td>\n",
       "      <td>2015-04-26</td>\n",
       "      <td>Running</td>\n",
       "    </tr>\n",
       "    <tr>\n",
       "      <th>2</th>\n",
       "      <td>Altered Carbon</td>\n",
       "      <td>8.8</td>\n",
       "      <td>[Drama, Action, Crime, Science-Fiction, Thriller]</td>\n",
       "      <td>NA</td>\n",
       "      <td>2018-02-02</td>\n",
       "      <td>Running</td>\n",
       "    </tr>\n",
       "    <tr>\n",
       "      <th>3</th>\n",
       "      <td>Happy Valley</td>\n",
       "      <td>8.2</td>\n",
       "      <td>[Drama, Crime]</td>\n",
       "      <td>BBC One</td>\n",
       "      <td>2014-04-29</td>\n",
       "      <td>Running</td>\n",
       "    </tr>\n",
       "    <tr>\n",
       "      <th>4</th>\n",
       "      <td>True Detective</td>\n",
       "      <td>8.5</td>\n",
       "      <td>[Drama, Crime, Thriller, Mystery]</td>\n",
       "      <td>HBO</td>\n",
       "      <td>2014-01-12</td>\n",
       "      <td>Running</td>\n",
       "    </tr>\n",
       "  </tbody>\n",
       "</table>\n",
       "</div>"
      ],
      "text/plain": [
       "                        show_name  rating_avg  \\\n",
       "0  Dr. Horrible's Sing-Along Blog         8.7   \n",
       "1                    Chef's Table         8.8   \n",
       "2                  Altered Carbon         8.8   \n",
       "3                    Happy Valley         8.2   \n",
       "4                  True Detective         8.5   \n",
       "\n",
       "                                              genres  network premiere_date  \\\n",
       "0                   [Comedy, Music, Science-Fiction]       NA    2008-07-15   \n",
       "1                                             [Food]       NA    2015-04-26   \n",
       "2  [Drama, Action, Crime, Science-Fiction, Thriller]       NA    2018-02-02   \n",
       "3                                     [Drama, Crime]  BBC One    2014-04-29   \n",
       "4                  [Drama, Crime, Thriller, Mystery]      HBO    2014-01-12   \n",
       "\n",
       "    status  \n",
       "0    Ended  \n",
       "1  Running  \n",
       "2  Running  \n",
       "3  Running  \n",
       "4  Running  "
      ]
     },
     "execution_count": 23,
     "metadata": {},
     "output_type": "execute_result"
    }
   ],
   "source": [
    "shows_df.head()"
   ]
  },
  {
   "cell_type": "code",
   "execution_count": 24,
   "metadata": {},
   "outputs": [
    {
     "name": "stdout",
     "output_type": "stream",
     "text": [
      "<class 'pandas.core.frame.DataFrame'>\n",
      "Int64Index: 235 entries, 0 to 234\n",
      "Data columns (total 6 columns):\n",
      "show_name        235 non-null object\n",
      "rating_avg       229 non-null float64\n",
      "genres           235 non-null object\n",
      "network          235 non-null object\n",
      "premiere_date    235 non-null object\n",
      "status           235 non-null object\n",
      "dtypes: float64(1), object(5)\n",
      "memory usage: 12.9+ KB\n"
     ]
    }
   ],
   "source": [
    "shows_df.info()"
   ]
  },
  {
   "cell_type": "code",
   "execution_count": null,
   "metadata": {
    "collapsed": true
   },
   "outputs": [],
   "source": []
  }
 ],
 "metadata": {
  "kernelspec": {
   "display_name": "Python 3",
   "language": "python",
   "name": "python3"
  },
  "language_info": {
   "codemirror_mode": {
    "name": "ipython",
    "version": 3
   },
   "file_extension": ".py",
   "mimetype": "text/x-python",
   "name": "python",
   "nbconvert_exporter": "python",
   "pygments_lexer": "ipython3",
   "version": "3.6.3"
  }
 },
 "nbformat": 4,
 "nbformat_minor": 1
}
