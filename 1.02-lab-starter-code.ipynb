{
 "cells": [
  {
   "cell_type": "markdown",
   "metadata": {},
   "source": [
    "# 1.02 Functions Lab - Starter Code\n"
   ]
  },
  {
   "cell_type": "code",
   "execution_count": 2,
   "metadata": {
    "collapsed": true
   },
   "outputs": [],
   "source": [
    "\"\"\"\n",
    "If you don't have pytest library you can install from the command line using:\n",
    "pip install -U pytest\n",
    "\"\"\"\n",
    "import pytest\n",
    "import string\n",
    "import numpy as np"
   ]
  },
  {
   "cell_type": "markdown",
   "metadata": {},
   "source": [
    "In this lab, we'll use the `assert()` function. Using `assert()` allows us to check whether an assertion or condition is true.\n",
    "- If the code works properly, nothing will happen.\n",
    "- If the code doesn't work properly, an error will be thrown.\n",
    "\n",
    "The next two cells will illustrate this."
   ]
  },
  {
   "cell_type": "code",
   "execution_count": 3,
   "metadata": {
    "collapsed": true
   },
   "outputs": [],
   "source": [
    "assert(1 == 1) # Because (1 == 1) is true, nothing should happen once this cell is run."
   ]
  },
  {
   "cell_type": "code",
   "execution_count": 4,
   "metadata": {},
   "outputs": [
    {
     "ename": "AssertionError",
     "evalue": "",
     "output_type": "error",
     "traceback": [
      "\u001b[0;31m---------------------------------------------------------------------------\u001b[0m",
      "\u001b[0;31mAssertionError\u001b[0m                            Traceback (most recent call last)",
      "\u001b[0;32m<ipython-input-4-8b36451da969>\u001b[0m in \u001b[0;36m<module>\u001b[0;34m()\u001b[0m\n\u001b[0;32m----> 1\u001b[0;31m \u001b[0;32massert\u001b[0m\u001b[0;34m(\u001b[0m\u001b[0;36m1\u001b[0m \u001b[0;34m==\u001b[0m \u001b[0;36m2\u001b[0m\u001b[0;34m)\u001b[0m \u001b[0;31m# Because (1 == 2) is false, assert will cause an AssertionError to be thrown once this cell is run.\u001b[0m\u001b[0;34m\u001b[0m\u001b[0m\n\u001b[0m",
      "\u001b[0;31mAssertionError\u001b[0m: "
     ]
    }
   ],
   "source": [
    "assert(1 == 2) # Because (1 == 2) is false, assert will cause an AssertionError to be thrown once this cell is run."
   ]
  },
  {
   "cell_type": "markdown",
   "metadata": {},
   "source": [
    "#### 1) Write a function called area_triangle() that:\n",
    "- takes the height and width of a triangle and\n",
    "- returns the area."
   ]
  },
  {
   "cell_type": "code",
   "execution_count": 5,
   "metadata": {
    "collapsed": true
   },
   "outputs": [],
   "source": [
    "def area_triangle(height, width):\n",
    "    return 0.5 * width * height"
   ]
  },
  {
   "cell_type": "code",
   "execution_count": 14,
   "metadata": {
    "collapsed": true
   },
   "outputs": [],
   "source": [
    "assert (area_triangle(2,2) == 2)\n",
    "assert (area_triangle(5,5.5) == 13.75)"
   ]
  },
  {
   "cell_type": "markdown",
   "metadata": {},
   "source": [
    "#### 2) Write a function called string_list_fun() that:\n",
    "- takes a string as an argument and \n",
    "- returns a tuple with the string converted to a list and the count of characters."
   ]
  },
  {
   "cell_type": "code",
   "execution_count": 23,
   "metadata": {
    "collapsed": true
   },
   "outputs": [],
   "source": [
    "def string_list_fun(stringer):\n",
    "    return (list(stringer), len(stringer))"
   ]
  },
  {
   "cell_type": "code",
   "execution_count": 21,
   "metadata": {
    "collapsed": true
   },
   "outputs": [],
   "source": [
    "assert (string_list_fun('GA Rocks') == (['G','A',' ','R','o','c','k','s'],8))"
   ]
  },
  {
   "cell_type": "markdown",
   "metadata": {},
   "source": [
    "#### 3) Write a function called math_rocks() that:\n",
    "- takes two integers passed as strings and\n",
    "- returns the sum, difference, and product as a tuple (all values as integers)."
   ]
  },
  {
   "cell_type": "code",
   "execution_count": 26,
   "metadata": {},
   "outputs": [
    {
     "data": {
      "text/plain": [
       "(7, 3, 10)"
      ]
     },
     "execution_count": 26,
     "metadata": {},
     "output_type": "execute_result"
    }
   ],
   "source": [
    "def math_rocks(str1, str2):\n",
    "    str1, str2 = int(str1), int(str2)\n",
    "    return (str1 + str2, str1 - str2, str1 * str2)"
   ]
  },
  {
   "cell_type": "code",
   "execution_count": 27,
   "metadata": {
    "collapsed": true
   },
   "outputs": [],
   "source": [
    "assert (math_rocks('5','2') == (7,3,10))"
   ]
  },
  {
   "cell_type": "markdown",
   "metadata": {},
   "source": [
    "#### 4) Write a function called getting_crazy() that:\n",
    "- takes a list and \n",
    "- returns a tuple where the first item is the list in reverse order and the second item is just the items with an odd index"
   ]
  },
  {
   "cell_type": "code",
   "execution_count": 32,
   "metadata": {
    "collapsed": true
   },
   "outputs": [],
   "source": [
    "def getting_crazy(lst):\n",
    "    return (lst[::-1], lst[1::2])"
   ]
  },
  {
   "cell_type": "code",
   "execution_count": 33,
   "metadata": {
    "collapsed": true
   },
   "outputs": [],
   "source": [
    "assert getting_crazy([1,2,3,4,5]) == ([5,4,3,2,1],[2,4])"
   ]
  },
  {
   "cell_type": "markdown",
   "metadata": {},
   "source": [
    "#### 5) Write a function called score_word() that:\n",
    "- takes a string and\n",
    "- returns the score for a word.\n",
    "\n",
    "  - Each letter's score is equal to its position in the alphabet: for example, A = 1, B = 2, and so on. \n",
    "  - The score of the word is the sum of the score of the letters: for example, the score of \"abe\" should be 8. (score(\"abe\") = score(\"a\") + score(\"b\") + score(\"e\") = 1 + 2 + 5 = 8.)\n",
    "\n",
    "##### Hint: The string library has a property [`ascii_lowercase`](https://docs.python.org/3.6/library/string.html) that can save some typing here. \n",
    "##### Bonus: Try accomplishing the above in two ways: once using the `enumerate()` function and once using indexing."
   ]
  },
  {
   "cell_type": "code",
   "execution_count": 40,
   "metadata": {},
   "outputs": [
    {
     "data": {
      "text/plain": [
       "8"
      ]
     },
     "execution_count": 40,
     "metadata": {},
     "output_type": "execute_result"
    }
   ],
   "source": [
    "def score_word(strg):\n",
    "    score = 0\n",
    "    for letter in strg.lower():\n",
    "        score += string.ascii_lowercase.index(letter) + 1\n",
    "    return score\n",
    "\n",
    "def score_word_other_method(strg):\n",
    "    score = 0\n",
    "    for ind, letter in enumerate(string.ascii_lowercase):\n",
    "        inds = strg.count(letter) * (ind + 1)\n",
    "        score += inds\n",
    "    return score"
   ]
  },
  {
   "cell_type": "code",
   "execution_count": 41,
   "metadata": {
    "collapsed": true
   },
   "outputs": [],
   "source": [
    "assert score_word(\"abe\") == 8"
   ]
  },
  {
   "cell_type": "markdown",
   "metadata": {},
   "source": [
    "#### 6) From today's lesson, we estimated the value of $\\pi$ by generating random numbers from a uniform distribution. There's code below that implements, in a function, the same thing.\n",
    "- Go through each line of `pi_estimation()` and comment. Prove to yourself (and us!) that you know what that code is doing.\n",
    "- After commenting each line, write a brief summary in the \"\"\" docstring \"\"\" in the first line inside the function."
   ]
  },
  {
   "cell_type": "code",
   "execution_count": null,
   "metadata": {
    "collapsed": true
   },
   "outputs": [],
   "source": [
    "def pi_estimation(n):\n",
    "    \"\"\" this is a function that attempts to demonstrate by brute force how we arrive at pi \"\"\"\n",
    "    x = np.random.uniform(0,1,n) #pulls a random number between 0-1 n times (w/ equal probability) for x axis value\n",
    "    y = np.random.uniform(0,1,n) #same for y value\n",
    "    D = x ** 2 + y ** 2 <= 1 #checks to see if the random paired x, y values fall w/in the circle, returns bool\n",
    "    return 4 * np.sum(D) / n #returns the number of times this happens for each quadrant of the circle, which should be pi as # increases"
   ]
  },
  {
   "cell_type": "markdown",
   "metadata": {},
   "source": [
    "#### 7) This function, `trailing_whitespace_removal()`, is designed to remove trailing whitespaces from strings. For example, if the last character in a string is a space, this function deletes that space.\n",
    "- Go through each line of `leading_whitespace_removal()` and comment. Prove to yourself (and us!) that you know what that code is doing.\n",
    "- After commenting each line, write a brief summary in the \"\"\" docstring \"\"\" in the first line inside the function."
   ]
  },
  {
   "cell_type": "code",
   "execution_count": 43,
   "metadata": {
    "collapsed": true
   },
   "outputs": [],
   "source": [
    "def trailing_whitespace_removal(old_list):\n",
    "    \"\"\"This removes all trailing whitespace from the strings of a list\"\"\"\n",
    "    new_list = []                \n",
    "    for i in old_list:  # each item in list    \n",
    "        while i[len(i)-1] == ' ': #while the last character is a trailing whitespace\n",
    "            i = i[0:len(i)-1] #reduce the slice of i by one at the end, this continues while there is trailing whitespace\n",
    "        new_list.append(i)  #once whitespace is removed, appends each item to new_list\n",
    "    return new_list              "
   ]
  },
  {
   "cell_type": "code",
   "execution_count": 44,
   "metadata": {
    "collapsed": true
   },
   "outputs": [],
   "source": [
    "assert (trailing_whitespace_removal([' Atlanta  ', '   Austin', 'Boston   ', ' Chicago', '  D.C. ', ' New York City ']) == [' Atlanta', '   Austin', 'Boston', ' Chicago', '  D.C.', ' New York City'])"
   ]
  },
  {
   "cell_type": "markdown",
   "metadata": {},
   "source": [
    "#### 8) Write a new function called `whitespace_removal()` that removes both trailing whitespaces *and* leading whitespaces. Test it on the assertion below. (Hint: You should be able to use most of the `trailing_whitespace_removal()` function above!)"
   ]
  },
  {
   "cell_type": "code",
   "execution_count": 48,
   "metadata": {},
   "outputs": [],
   "source": [
    "def whitespace_removal(old_list):\n",
    "    new_list = []\n",
    "    for i in old_list:\n",
    "        while i[len(i)-1] == ' ':\n",
    "            i = i[0:len(i)-1]\n",
    "        while i[0] == ' ':\n",
    "            i = i[1:]\n",
    "        new_list.append(i)\n",
    "    return new_list"
   ]
  },
  {
   "cell_type": "code",
   "execution_count": 49,
   "metadata": {
    "collapsed": true
   },
   "outputs": [],
   "source": [
    "assert (whitespace_removal([' Atlanta  ', '   Austin', 'Boston   ', ' Chicago', '  D.C. ', ' New York City ']) == ['Atlanta', 'Austin', 'Boston', 'Chicago', 'D.C.', 'New York City'])"
   ]
  },
  {
   "cell_type": "markdown",
   "metadata": {},
   "source": [
    "#### BONUS) The `zip()` function is commonly used in Python. Write a function called `zip_checker()` that:\n",
    "- takes a list of inputs and \n",
    "- returns \"Yes!\" if the `zip()` function will work on that list of inputs and returns \"No.\" if `zip()` does not work on that list of inputs.\n",
    "\n",
    "You might be saying, \"We haven't used the `zip()` function yet!\" You're right - there are times when you'll discover new functions, libraries, methods, etc. about which we haven't learned but which might make your work much simpler! It'll be up to you to explore things and then be confident about using these new tools.\n",
    "\n",
    "A good, general strategy for working with new functions is:\n",
    "1. Read the documentation. (The documentation for `zip()` is linked [here](https://docs.python.org/3/library/functions.html#zip).)\n",
    "2. Work out a simple example - often there'll be an example or two included in the documentation. In this case, start with two lists of two elements.\n",
    "3. Once you're comfortable with the small example, make it harder. In this case, try zipping a list of two elements with a list of three or four elements. Try zipping three lists. By doing these \"harder\" cases, it'll give you a much better sense for what works and what doesn't.\n",
    "4. When you research a new function, it might be helpful to make a note of what you learned during your quick exploration. Write out a brief summary of your findings.\n",
    "\n",
    "##### Hint: There's a subtle difference between Python 2 and Python 3 that might be good to call out. In Python 2, `zip(x,y)` would work and display the expected result. In Python 3, `zip(x,y)` returns an odd-looking zip object. In order to display the expected result in Python 3, you'll want to run `list(zip(x,y))`."
   ]
  },
  {
   "cell_type": "code",
   "execution_count": 65,
   "metadata": {},
   "outputs": [
    {
     "data": {
      "text/plain": [
       "'Yes!'"
      ]
     },
     "execution_count": 65,
     "metadata": {},
     "output_type": "execute_result"
    }
   ],
   "source": [
    "def zip_checker(old_list):\n",
    "    try:\n",
    "        tupelo = ()\n",
    "        for lst in old_list:\n",
    "            tupelo = tupelo + tuple(lst)\n",
    "            zip(tupelo)\n",
    "        return 'Yes!'\n",
    "    except:\n",
    "        return 'No.'"
   ]
  },
  {
   "cell_type": "markdown",
   "metadata": {},
   "source": [
    "### Additional Resources - Potentially Helpful Functions\n",
    "\n",
    "* [Data Structures in Python](https://docs.python.org/3.6/tutorial/datastructures.html#)\n",
    "* [What's New in Python 3?](https://docs.python.org/3.6/whatsnew/3.0.html)"
   ]
  }
 ],
 "metadata": {
  "anaconda-cloud": {},
  "kernelspec": {
   "display_name": "Python 3",
   "language": "python",
   "name": "python3"
  },
  "language_info": {
   "codemirror_mode": {
    "name": "ipython",
    "version": 3
   },
   "file_extension": ".py",
   "mimetype": "text/x-python",
   "name": "python",
   "nbconvert_exporter": "python",
   "pygments_lexer": "ipython3",
   "version": "3.6.3"
  }
 },
 "nbformat": 4,
 "nbformat_minor": 1
}
